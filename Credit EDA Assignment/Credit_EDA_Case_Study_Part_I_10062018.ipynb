{
  "nbformat": 4,
  "nbformat_minor": 0,
  "metadata": {
    "colab": {
      "name": "Credit EDA Case Study-Part I 10062018.ipynb",
      "version": "0.3.2",
      "provenance": [],
      "collapsed_sections": []
    },
    "language_info": {
      "codemirror_mode": {
        "name": "ipython",
        "version": 3
      },
      "file_extension": ".py",
      "mimetype": "text/x-python",
      "name": "python",
      "nbconvert_exporter": "python",
      "pygments_lexer": "ipython3",
      "version": "3.6.8"
    },
    "kernelspec": {
      "display_name": "Python 3",
      "language": "python",
      "name": "python3"
    }
  },
  "cells": [
    {
      "cell_type": "markdown",
      "metadata": {
        "id": "1HhLNI4cHESn",
        "colab_type": "text"
      },
      "source": [
        "# Credit EDA Case Study\n",
        "\n",
        "### The porblem statement of this case study can be found at:\n",
        "\n",
        "https://learn.upgrad.com/v/course/258/session/36098/segment/192309"
      ]
    },
    {
      "cell_type": "markdown",
      "metadata": {
        "colab_type": "text",
        "id": "3hz2LVMk6VGY"
      },
      "source": [
        "## Table of Contents:\n",
        "\n",
        "  1. [Import Libraries and setup environment](#Import)\n",
        "  2. [Read csv data file and create Dataframe](#ReadData)\n",
        "  3. [Check dataframe size and basic data quality](#DataChecks)\n",
        "  4. [Missing data analysis and deletion of high % missing data columns](#MissingData)\n",
        "  5. [Data Imputation](#DataImputation)\n",
        "   - [DAYS_LAST_PHONE_CHANGE](#DataImputation_1)\n",
        "   - [CNT_FAM_MEMBERS](#DataImputation_2)\n",
        "   - [NAME_TYPE_SUITE](#DataImputation_3)\n",
        "   - [AMT_GOODS_PRICE](#DataImputation_4)\n",
        "   - [AMT_REQ_CREDIT_BUREAU_* columns](#DataImputation_5)\n",
        "   - [client's social surroundings with observable columns](#DataImputation_6)\n",
        "  6. [Inspect Datatypes of Variables](#InspectDatatype)\n",
        "   - [Object dtype](#Object)\n",
        "   - [int64 dtype](#Int)\n",
        "      * [Data fix for DAYS_BIRTH, DAYS_EMPLOYED,  DAYS_ID_PUBLISH](#Fix_1)\n",
        "   - [float64 dtype](#Float)\n",
        "      * [Dtype change](#Fix_2)\n",
        "  7. [Outliers in the numerical data](#Outliers)\n",
        "   - [AMT_INCOME_TOTAL](#AMT_INCOME_TOTAL)\n",
        "   - [AMT_ANNUITY](#AMT_ANNUITY)\n",
        "   - [AMT_GOODS_PRICE](#AMT_GOODS_PRICE)\n",
        "   - [CNT_FAM_MEMBERS](#CNT_FAM_MEMBERS)\n",
        "  8. [Binnning the continous variables](#Binning)\n",
        "   - [DAYS_BIRTH](#DAYS_BIRTH)\n",
        "   - [DAYS_EMPLOYED](#DAYS_EMPLOYED)\n",
        "  9. [Export data to csv for futher analysis](#Export)\n",
        "\n",
        "\n",
        "\n",
        "\n"
      ]
    },
    {
      "cell_type": "code",
      "metadata": {
        "colab_type": "code",
        "id": "5RJ8EYEZM8Wz",
        "colab": {}
      },
      "source": [
        "#from google.colab import drive\n",
        "#drive.mount('/content/drive')"
      ],
      "execution_count": 0,
      "outputs": []
    },
    {
      "cell_type": "markdown",
      "metadata": {
        "colab_type": "text",
        "id": "Czd15HySY6tq"
      },
      "source": [
        "<a id='Import'></a>\n",
        "## Import all the required libraries"
      ]
    },
    {
      "cell_type": "code",
      "metadata": {
        "colab_type": "code",
        "id": "_6L6o3wcEA6-",
        "colab": {}
      },
      "source": [
        "import pandas as pd\n",
        "import numpy as np\n",
        "import matplotlib.pyplot as plt\n",
        "import seaborn as sns\n",
        "import collections\n",
        "import plotly.plotly as py\n",
        "from plotly import tools\n",
        "import plotly.graph_objs as go\n",
        "sns.set(style=\"darkgrid\")\n",
        "%matplotlib inline\n",
        "#importing plotly and cufflinks in offline mode\n",
        "import cufflinks as cf\n",
        "import plotly.offline\n",
        "cf.go_offline()\n",
        "cf.set_config_file(offline=False, world_readable=True)"
      ],
      "execution_count": 0,
      "outputs": []
    },
    {
      "cell_type": "code",
      "metadata": {
        "colab_type": "code",
        "id": "WwM7CKVEj4RT",
        "colab": {}
      },
      "source": [
        "# Create a class color for setting print formatting\n",
        "class color:\n",
        "   PURPLE = '\\033[95m'\n",
        "   CYAN = '\\033[96m'\n",
        "   DARKCYAN = '\\033[36m'\n",
        "   BLUE = '\\033[94m'\n",
        "   GREEN = '\\033[92m'\n",
        "   YELLOW = '\\033[93m'\n",
        "   RED = '\\033[91m'\n",
        "   BOLD = '\\033[1m'\n",
        "   UNDERLINE = '\\033[4m'\n",
        "   END = '\\033[0m'\n"
      ],
      "execution_count": 0,
      "outputs": []
    },
    {
      "cell_type": "code",
      "metadata": {
        "colab_type": "code",
        "id": "CNk8JNJ2z9Eb",
        "colab": {}
      },
      "source": [
        "# Function to display plotly offline plots in Juputer notebook cells\n",
        "def enable_plotly_in_cell():\n",
        "  import IPython\n",
        "  from plotly.offline import init_notebook_mode\n",
        "  display(IPython.core.display.HTML('''<script src=\"/static/components/requirejs/require.js\"></script>'''))\n",
        "  init_notebook_mode(connected=False)"
      ],
      "execution_count": 0,
      "outputs": []
    },
    {
      "cell_type": "code",
      "metadata": {
        "colab_type": "code",
        "id": "sP0b9NTgfsmN",
        "colab": {}
      },
      "source": [
        "#Setup the display options so that all the columns are displayed on the screen\n",
        "\n",
        "pd.options.display.max_columns = 150"
      ],
      "execution_count": 0,
      "outputs": []
    },
    {
      "cell_type": "markdown",
      "metadata": {
        "id": "PxYAgVdMHES6",
        "colab_type": "text"
      },
      "source": [
        "<a id='ReadData'></a>\n",
        "## Read csv data file and create Dataframe\n"
      ]
    },
    {
      "cell_type": "code",
      "metadata": {
        "colab_type": "code",
        "id": "xKtLEAWrboBh",
        "colab": {}
      },
      "source": [
        "#Create a dataframe df with all the application_data for further processing\n",
        "\n",
        "#df = pd.read_csv(\"/content/drive/My Drive/Colab Notebooks/data/application_data.csv\")"
      ],
      "execution_count": 0,
      "outputs": []
    },
    {
      "cell_type": "code",
      "metadata": {
        "colab_type": "code",
        "id": "UCO5Vq2SXrDh",
        "colab": {}
      },
      "source": [
        "df = pd.read_csv(\"application_data.csv\")"
      ],
      "execution_count": 0,
      "outputs": []
    },
    {
      "cell_type": "code",
      "metadata": {
        "colab_type": "code",
        "id": "Q4vyBBBMYmX2",
        "colab": {}
      },
      "source": [
        "#pp.ProfileReport(df)"
      ],
      "execution_count": 0,
      "outputs": []
    },
    {
      "cell_type": "markdown",
      "metadata": {
        "id": "y4_4Ly5FHETC",
        "colab_type": "text"
      },
      "source": [
        "<a id='DataChecks'></a>\n",
        "## Check dataframe size and basic data quality"
      ]
    },
    {
      "cell_type": "code",
      "metadata": {
        "colab_type": "code",
        "id": "MLwtops8mCT6",
        "colab": {}
      },
      "source": [
        "# Display shape of the dataframe\n",
        "\n",
        "\n",
        "print(color.BOLD+color.BLUE+'Shape of the dataframe df : {}'.format(df.shape) +color.END)"
      ],
      "execution_count": 0,
      "outputs": []
    },
    {
      "cell_type": "code",
      "metadata": {
        "colab_type": "code",
        "id": "VuxUKmchcrM9",
        "colab": {}
      },
      "source": [
        "# Display first 5 rows of the dataframe df to have a quick view at the data\n",
        "\n",
        "df.head()"
      ],
      "execution_count": 0,
      "outputs": []
    },
    {
      "cell_type": "code",
      "metadata": {
        "colab_type": "code",
        "id": "BkvS_Aoa8WCc",
        "colab": {}
      },
      "source": [
        "df.describe()"
      ],
      "execution_count": 0,
      "outputs": []
    },
    {
      "cell_type": "code",
      "metadata": {
        "colab_type": "code",
        "id": "5waQaFdvI8Zv",
        "colab": {}
      },
      "source": [
        "#df[df['TARGET'] ==1]"
      ],
      "execution_count": 0,
      "outputs": []
    },
    {
      "cell_type": "markdown",
      "metadata": {
        "colab_type": "text",
        "id": "hUxu7nodXrD5"
      },
      "source": [
        "<a id='MissingData'></a>\n",
        "## Missing data analysis and deletion of high % missing data columns"
      ]
    },
    {
      "cell_type": "code",
      "metadata": {
        "colab_type": "code",
        "id": "freET0WLXrD5",
        "colab": {}
      },
      "source": [
        "#Before moving ahead with our EDA, we need to check dataframe for the missing data.\n",
        "#In the case where the column has more than 50% of the data missing,\n",
        "#it would be adivisable to remove that column as the analysis of columns with more than 50% data would not give us correct results\n",
        "\n",
        "#We will display total missing records for each column and find the % of the missing values which can help use for our next step.\n",
        "\n",
        "Total_missing = df.isnull().sum().sort_values(ascending = False)\n",
        "Total_missing_Perc = (100*df.isnull().sum()/df.shape[0]).sort_values(ascending = False)\n",
        "df_missing_values = pd.concat([Total_missing,Total_missing_Perc], axis=1, keys=['Total_missing_values', 'Percent_missing_values'])\n",
        "df_missing_values.head(25)"
      ],
      "execution_count": 0,
      "outputs": []
    },
    {
      "cell_type": "code",
      "metadata": {
        "colab_type": "code",
        "id": "6xdXZPrQiJLa",
        "colab": {}
      },
      "source": [
        "# let us check how many columns have more than 50% data missing\n",
        "\n",
        "\n",
        "\n",
        "print(color.BOLD+ color.BLUE+'Total no of columns with missing values more than 50% : {}'.format(df_missing_values[df_missing_values['Percent_missing_values'] >= 50].shape[0])+ color.END)"
      ],
      "execution_count": 0,
      "outputs": []
    },
    {
      "cell_type": "code",
      "metadata": {
        "colab_type": "code",
        "id": "JBhLQLX_h9TM",
        "colab": {}
      },
      "source": [
        "#Create a dataframe with all columns with data misisng < 50% for our  further analsysis\n",
        "\n",
        "df_cleaned = df.loc[:,(100*df.isnull().sum()/df.shape[0]).sort_values(ascending = False) < 50]"
      ],
      "execution_count": 0,
      "outputs": []
    },
    {
      "cell_type": "code",
      "metadata": {
        "colab_type": "code",
        "id": "PbW1KrSdlSPe",
        "colab": {}
      },
      "source": [
        "df_cleaned.head()"
      ],
      "execution_count": 0,
      "outputs": []
    },
    {
      "cell_type": "code",
      "metadata": {
        "id": "_duShCEiHETZ",
        "colab_type": "code",
        "colab": {}
      },
      "source": [
        "#Check no of missing values for  each record\n",
        "cnt = (df_cleaned.isnull().sum(axis= 1).sort_values(ascending = False)).values\n",
        "collections.Counter(cnt)\n",
        "\n",
        "print(color.BOLD+ color.BLUE+'Total no of records with missing values for  more than 10 columns : {}'.format(df_cleaned[df_cleaned.isnull().sum(axis= 1) > 10].shape[0])+ color.END)\n"
      ],
      "execution_count": 0,
      "outputs": []
    },
    {
      "cell_type": "markdown",
      "metadata": {
        "colab_type": "text",
        "id": "cev8iiWWlqzE"
      },
      "source": [
        "<a id ='DataImputation'></a>\n",
        "## Data imputation\n",
        "\n",
        "Data imputation is used for replacing missing values with appropriate values which can aid in further data analysis.\n",
        "\n"
      ]
    },
    {
      "cell_type": "code",
      "metadata": {
        "id": "l-3xryjvHETd",
        "colab_type": "code",
        "colab": {}
      },
      "source": [
        "#Check missing values\n",
        "#we need to impute values for columns with low missing %\n",
        "# we will consider 15% and lower for the data imputation activity\n",
        "df_missing_values[(df_missing_values['Percent_missing_values'] < 15) \n",
        "                  & (df_missing_values['Percent_missing_values'] > 0)]\n",
        "                                                                                                                                                                                    "
      ],
      "execution_count": 0,
      "outputs": []
    },
    {
      "cell_type": "markdown",
      "metadata": {
        "id": "TdvvSbWNHETh",
        "colab_type": "text"
      },
      "source": [
        "<a id = 'DataImputation_1' ></a>\n",
        "### Data imputation for DAYS_LAST_PHONE_CHANGE"
      ]
    },
    {
      "cell_type": "code",
      "metadata": {
        "colab_type": "code",
        "id": "WrK4HQTnABx_",
        "colab": {}
      },
      "source": [
        "# we will plot histogram to check value frequency\n",
        "# as well as Box plot to check the central tendency for DAYS_LAST_PHONE_CHANGE data\n",
        "enable_plotly_in_cell()\n",
        "\n",
        "fig = tools.make_subplots(rows=1, cols=2, specs=[[{}, {}]], shared_xaxes=True,\n",
        "                          shared_yaxes=False, vertical_spacing=0.001)\n",
        "\n",
        "\n",
        "trace0 = go.Histogram(\n",
        "    x=df_cleaned['DAYS_LAST_PHONE_CHANGE'],\n",
        "    nbinsx = 20,\n",
        "    name = \"Count\"\n",
        ")\n",
        "trace1 = go.Box(\n",
        "    y=df_cleaned['DAYS_LAST_PHONE_CHANGE'],\n",
        "    boxpoints = 'outliers',\n",
        "    name = \"Days\"\n",
        ")\n",
        "data = [trace0, trace1]\n",
        "layout = go.Layout(\n",
        "    title = \"Plots for DAYS_LAST_PHONE_CHANGE\"\n",
        ")\n",
        "fig.append_trace(trace0, 1, 1)\n",
        "fig.append_trace(trace1, 1, 2)\n",
        "fig['layout']['xaxis1'].update(title='Days')\n",
        "fig['layout']['yaxis1'].update(title='No of records')\n",
        "fig['layout']['yaxis2'].update(title='Days')\n",
        "fig['layout'].update(height=600, width=800, title='Plots for DAYS_LAST_PHONE_CHANGE')\n",
        "cf.iplot(fig)\n",
        "\n",
        "# Let's check how many values for are null for column 'DAYS_LAST_PHONE_CHANGE'\n",
        "\n",
        "clmn = 'DAYS_LAST_PHONE_CHANGE'\n",
        "\n",
        "Total_null_values = df_cleaned['DAYS_LAST_PHONE_CHANGE'].isnull().sum()\n",
        "\n",
        "print(color.BOLD + color.BLUE + 'Total no of null values for column {0} : {1}'.format(clmn,Total_null_values ) + color.END)\n",
        "\n",
        "#check outliers for the DAYS_LAST_PHONE_CHANGE\n",
        "\n",
        "Total_no_of_outliers = df[df_cleaned['DAYS_LAST_PHONE_CHANGE'] < -3500].shape[0]\n",
        "\n",
        "print(color.BOLD + color.BLUE + 'Total no of outliers for column {0} : {1}'.format(clmn,Total_no_of_outliers ) + color.END)"
      ],
      "execution_count": 0,
      "outputs": []
    },
    {
      "cell_type": "code",
      "metadata": {
        "colab_type": "code",
        "id": "pFZ8p3Z5uhOw",
        "colab": {}
      },
      "source": [
        "# As DAYS_LAST_PHONE_CHANGE is a discrete variable, we will replace all NaN values with 'median' value as that value is most common value\n",
        "\n",
        "\n",
        "df_cleaned['DAYS_LAST_PHONE_CHANGE'].fillna(df_cleaned['DAYS_LAST_PHONE_CHANGE'].median(), inplace = True)\n",
        "df_cleaned['DAYS_LAST_PHONE_CHANGE'].isnull().sum()\n",
        "\n",
        "print(color.BOLD + color.BLUE + 'Total no of missing values replaced by median value for column {0} : {1}'.format(clmn,Total_null_values ) + color.END)\n"
      ],
      "execution_count": 0,
      "outputs": []
    },
    {
      "cell_type": "markdown",
      "metadata": {
        "id": "wMu7Cm9HHETn",
        "colab_type": "text"
      },
      "source": [
        "<a id = 'DataImputation_2' ></a>\n",
        "### Data imputation for CNT_FAM_MEMBERS"
      ]
    },
    {
      "cell_type": "code",
      "metadata": {
        "colab_type": "code",
        "id": "lILQitijTFXM",
        "colab": {}
      },
      "source": [
        "# we will plot histogram to check value frequency\n",
        "# as well as Box plot to check the central tendency for CNT_FAM_MEMBERS data\n",
        "enable_plotly_in_cell()\n",
        "\n",
        "fig = tools.make_subplots(rows=1, cols=2, specs=[[{}, {}]], shared_xaxes=True,\n",
        "                          shared_yaxes=False, vertical_spacing=0.001)\n",
        "\n",
        "\n",
        "trace0 = go.Histogram(\n",
        "    x=df_cleaned['CNT_FAM_MEMBERS'],\n",
        "    nbinsx = 20,\n",
        "    name = \"Count\"\n",
        ")\n",
        "trace1 = go.Box(\n",
        "    y=df_cleaned['CNT_FAM_MEMBERS'],\n",
        "    boxpoints = 'outliers',\n",
        "    name = \"No of Family Members\"\n",
        ")\n",
        "data = [trace0, trace1]\n",
        "layout = go.Layout(\n",
        "    title = \"Plots for CNT_FAM_MEMBERS\"\n",
        ")\n",
        "fig.append_trace(trace0, 1, 1)\n",
        "fig.append_trace(trace1, 1, 2)\n",
        "fig['layout']['xaxis1'].update(title='No of Family Members')\n",
        "fig['layout']['yaxis1'].update(title='No of records')\n",
        "fig['layout']['yaxis2'].update(title='No of Family Members')\n",
        "fig['layout'].update(height=600, width=800, title='Plots for CNT_FAM_MEMBERS')\n",
        "cf.iplot(fig)\n",
        "\n",
        "# Let's check how many values for are null for column 'CNT_FAM_MEMBERS'\n",
        "\n",
        "clmn = 'CNT_FAM_MEMBERS'\n",
        "\n",
        "Total_null_values = df_cleaned['CNT_FAM_MEMBERS'].isnull().sum()\n",
        "\n",
        "print(color.BOLD + color.BLUE + 'Total no of null values for column {0} : {1}'.format(clmn,Total_null_values ) + color.END)\n",
        "\n",
        "#check outliers for the CNT_FAM_MEMBERS\n",
        "\n",
        "Total_no_of_outliers = df[df_cleaned['CNT_FAM_MEMBERS'] > 4].shape[0]\n",
        "\n",
        "print(color.BOLD + color.BLUE + 'Total no of outliers for column {0} : {1}'.format(clmn,Total_no_of_outliers ) + color.END)"
      ],
      "execution_count": 0,
      "outputs": []
    },
    {
      "cell_type": "code",
      "metadata": {
        "colab_type": "code",
        "id": "h2wosdqu-7L0",
        "colab": {}
      },
      "source": [
        "# As CNT_FAM_MEMBERS is a discrete variable, we will replace all NaN values with 'median' value as that value is most common value\n",
        "\n",
        "df_cleaned['CNT_FAM_MEMBERS'].fillna(df_cleaned['CNT_FAM_MEMBERS'].median(), inplace = True)\n",
        "df_cleaned['CNT_FAM_MEMBERS'].isnull().sum()\n",
        "\n",
        "print(color.BOLD + color.BLUE + 'Total no of missing values replaced by median value for column {0} : {1}'.format(clmn,Total_null_values ) + color.END)\n",
        "\n"
      ],
      "execution_count": 0,
      "outputs": []
    },
    {
      "cell_type": "markdown",
      "metadata": {
        "id": "1zIjhu8EHETs",
        "colab_type": "text"
      },
      "source": [
        "<a id = 'DataImputation_3' ></a>\n",
        "### Data imputation for NAME_TYPE_SUITE"
      ]
    },
    {
      "cell_type": "code",
      "metadata": {
        "colab_type": "code",
        "id": "UvOjpuq5k1PD",
        "colab": {}
      },
      "source": [
        "#We will find value counts for NAME_TYPE_SUITE categories. \n",
        "#As this is categorical variable will impute the missing data with high frequency category \n",
        "df_cleaned['NAME_TYPE_SUITE'].value_counts()"
      ],
      "execution_count": 0,
      "outputs": []
    },
    {
      "cell_type": "code",
      "metadata": {
        "colab_type": "code",
        "id": "uLRJya9cMiud",
        "colab": {}
      },
      "source": [
        "# Let's check how many values for are null for column 'NAME_TYPE_SUITE'\n",
        "\n",
        "clmn = 'NAME_TYPE_SUITE'\n",
        "\n",
        "Total_null_values = df_cleaned['NAME_TYPE_SUITE'].isnull().sum()\n",
        "\n",
        "print(color.BOLD + color.BLUE + 'Total no of null values for column {0} : {1}'.format(clmn,Total_null_values ) + color.END)\n"
      ],
      "execution_count": 0,
      "outputs": []
    },
    {
      "cell_type": "code",
      "metadata": {
        "colab_type": "code",
        "id": "ifhknWWBMix9",
        "colab": {}
      },
      "source": [
        "# As 'Unaccompanied' is the major value for NAME_TYPE_SUITE, we will replace all NaN values with 'Unaccompanied'\n",
        "\n",
        "df_cleaned['NAME_TYPE_SUITE'].fillna('Unaccompanied', inplace = True)\n",
        "df_cleaned['NAME_TYPE_SUITE'].isnull().sum()\n",
        "\n",
        "print(color.BOLD + color.BLUE + 'Total no of missing values replaced by \"Unaccompanied\" value for column {0} : {1}'.format(clmn,Total_null_values ) + color.END)\n",
        "\n"
      ],
      "execution_count": 0,
      "outputs": []
    },
    {
      "cell_type": "markdown",
      "metadata": {
        "id": "n4J0_4uFHETy",
        "colab_type": "text"
      },
      "source": [
        "<a id = 'DataImputation_4' ></a>\n",
        "### Data imputation for AMT_GOODS_PRICE"
      ]
    },
    {
      "cell_type": "code",
      "metadata": {
        "colab_type": "code",
        "id": "S7YIGrUQMiG4",
        "colab": {}
      },
      "source": [
        "# we will plot histogram to check value frequency\n",
        "# as well as Box plot to check the central tendency for DAYS_LAST_PHONE_CHANGE data\n",
        "enable_plotly_in_cell()\n",
        "\n",
        "fig = tools.make_subplots(rows=1, cols=2, specs=[[{}, {}]], shared_xaxes=True,\n",
        "                          shared_yaxes=False, vertical_spacing=0.001)\n",
        "\n",
        "\n",
        "trace0 = go.Histogram(\n",
        "    x=df_cleaned['AMT_GOODS_PRICE'],\n",
        "    nbinsx = 20,\n",
        "    name = \"Count\"\n",
        ")\n",
        "trace1 = go.Box(\n",
        "    y=df_cleaned['AMT_GOODS_PRICE'],\n",
        "    boxpoints = 'outliers',\n",
        "    name = \"No of Family Members\"\n",
        ")\n",
        "data = [trace0, trace1]\n",
        "layout = go.Layout(\n",
        "    title = \"Plots for AMT_GOODS_PRICE\"\n",
        ")\n",
        "fig.append_trace(trace0, 1, 1)\n",
        "fig.append_trace(trace1, 1, 2)\n",
        "fig['layout']['xaxis1'].update(title='AMT_GOODS_PRICE')\n",
        "fig['layout']['yaxis1'].update(title='No of records')\n",
        "fig['layout']['yaxis2'].update(title='AMT_GOODS_PRICE')\n",
        "fig['layout'].update(height=600, width=800, title='Plots for AMT_GOODS_PRICE')\n",
        "cf.iplot(fig)\n",
        "\n",
        "# Let's check how many values for are null for column 'AMT_GOODS_PRICE'\n",
        "\n",
        "clmn = 'AMT_GOODS_PRICE'\n",
        "\n",
        "Total_null_values = df_cleaned['AMT_GOODS_PRICE'].isnull().sum()\n",
        "\n",
        "print(color.BOLD + color.BLUE + 'Total no of null values for column {0} : {1}'.format(clmn,Total_null_values ) + color.END)"
      ],
      "execution_count": 0,
      "outputs": []
    },
    {
      "cell_type": "code",
      "metadata": {
        "colab_type": "code",
        "id": "5VkTDXmwMiUg",
        "colab": {}
      },
      "source": [
        "Total_no_of_outliers = df[df_cleaned['AMT_GOODS_PRICE'] > 1341000].shape[0]\n",
        "\n",
        "print(color.BOLD + color.BLUE + 'Total no of outliers for column {0} : {1}'.format(clmn,Total_no_of_outliers ) + color.END)"
      ],
      "execution_count": 0,
      "outputs": []
    },
    {
      "cell_type": "code",
      "metadata": {
        "colab_type": "code",
        "id": "syoEn_MdMiYn",
        "colab": {}
      },
      "source": [
        "# As AMT_GOODS_PRICE is a discrete variable, we will replace all NaN values with 'mean' value \n",
        "\n",
        "df_cleaned['AMT_GOODS_PRICE'].fillna(df_cleaned['AMT_GOODS_PRICE'].mean(), inplace = True)\n",
        "df_cleaned['AMT_GOODS_PRICE'].isnull().sum()\n",
        "\n",
        "print(color.BOLD + color.BLUE + 'Total no of missing values replaced by average value for column {0} : {1}'.format(clmn,Total_null_values ) + color.END)\n"
      ],
      "execution_count": 0,
      "outputs": []
    },
    {
      "cell_type": "markdown",
      "metadata": {
        "id": "Y-AVv2VvHET7",
        "colab_type": "text"
      },
      "source": [
        "<a id = 'DataImputation_5' ></a>\n",
        "### Data imputation for AMT_REQ_CREDIT_BUREAU_* columns"
      ]
    },
    {
      "cell_type": "code",
      "metadata": {
        "id": "IlGwi8RQHET7",
        "colab_type": "code",
        "colab": {}
      },
      "source": [
        "# We need to check if all AMT_REQ_CREDIT_BUREAU_* columns have null values for same records\n",
        "missing_val = df_cleaned[(df_cleaned['AMT_REQ_CREDIT_BUREAU_QRT'].isnull() ) &\n",
        "          (df_cleaned['AMT_REQ_CREDIT_BUREAU_YEAR'].isnull() ) &\n",
        "           (df_cleaned['AMT_REQ_CREDIT_BUREAU_WEEK'].isnull() ) &\n",
        "           (df_cleaned['AMT_REQ_CREDIT_BUREAU_MON'].isnull() ) &\n",
        "           (df_cleaned['AMT_REQ_CREDIT_BUREAU_DAY'].isnull() ) &\n",
        "          (df_cleaned['AMT_REQ_CREDIT_BUREAU_HOUR'].isnull() )].shape[0]\n",
        "\n",
        "print(color.BOLD + color.BLUE + 'Total no of missing values : {0} '.format(missing_val ) + color.END)\n"
      ],
      "execution_count": 0,
      "outputs": []
    },
    {
      "cell_type": "code",
      "metadata": {
        "id": "zQQtvh2tHET-",
        "colab_type": "code",
        "colab": {}
      },
      "source": [
        "#we need to find value which has highest count for AMT_REQ_CREDIT_BUREAU_QRT\n",
        "#this value can be used for further imputing\n",
        "Qrt_cnt = df_cleaned['AMT_REQ_CREDIT_BUREAU_QRT'].value_counts().nlargest(1)\n",
        "\n",
        "print(color.BOLD + color.BLUE + 'The highest no of values for AMT_REQ_CREDIT_BUREAU_QRT is {0} with count: {1}'.format(Qrt_cnt.index[0],Qrt_cnt[0] ) + color.END)\n",
        "\n",
        "\n",
        "#we need to find value which has highest count for AMT_REQ_CREDIT_BUREAU_YEAR\n",
        "Year_cnt = df_cleaned['AMT_REQ_CREDIT_BUREAU_YEAR'].value_counts().nlargest(1)\n",
        "\n",
        "print(color.BOLD + color.BLUE + 'The highest no of values for AMT_REQ_CREDIT_BUREAU_YEAR is {0} with count: {1}'.format(Year_cnt.index[0],Year_cnt[0] ) + color.END)\n",
        "\n",
        "\n",
        "#we need to find value which has highest count for AMT_REQ_CREDIT_BUREAU_WEEK\n",
        "WEEK_cnt = df_cleaned['AMT_REQ_CREDIT_BUREAU_WEEK'].value_counts().nlargest(1)\n",
        "\n",
        "print(color.BOLD + color.BLUE + 'The highest no of values for AMT_REQ_CREDIT_BUREAU_WEEK is {0} with count: {1}'.format(WEEK_cnt.index[0],WEEK_cnt[0] ) + color.END)\n",
        "\n",
        "\n",
        "#we need to find value which has highest count for AMT_REQ_CREDIT_BUREAU_MON\n",
        "MON_cnt = df_cleaned['AMT_REQ_CREDIT_BUREAU_MON'].value_counts().nlargest(1)\n",
        "\n",
        "print(color.BOLD + color.BLUE + 'The highest no of values for AMT_REQ_CREDIT_BUREAU_MON is {0} with count: {1}'.format(MON_cnt.index[0],MON_cnt[0] ) + color.END)\n",
        "\n",
        "\n",
        "#we need to find value which has highest count for AMT_REQ_CREDIT_BUREAU_DAY\n",
        "DAY_cnt = df_cleaned['AMT_REQ_CREDIT_BUREAU_DAY'].value_counts().nlargest(1)\n",
        "\n",
        "print(color.BOLD + color.BLUE + 'The highest no of values for AMT_REQ_CREDIT_BUREAU_DAY is {0} with count: {1}'.format(DAY_cnt.index[0],DAY_cnt[0] ) + color.END)\n",
        "\n",
        "\n",
        "#we need to find value which has highest count for AMT_REQ_CREDIT_BUREAU_HOUR\n",
        "HOUR_cnt = df_cleaned['AMT_REQ_CREDIT_BUREAU_HOUR'].value_counts().nlargest(1)\n",
        "\n",
        "print(color.BOLD + color.BLUE + 'The highest no of values for AMT_REQ_CREDIT_BUREAU_HOUR is {0} with count: {1}'.format(HOUR_cnt.index[0],HOUR_cnt[0] ) + color.END)\n",
        "\n",
        "\n",
        "\n"
      ],
      "execution_count": 0,
      "outputs": []
    },
    {
      "cell_type": "markdown",
      "metadata": {
        "id": "G_po6Pq9HEUA",
        "colab_type": "text"
      },
      "source": [
        "**It seems that default value, in absense of any valid value is 0.0.\n",
        "so we will impute these columns with 0.0**"
      ]
    },
    {
      "cell_type": "code",
      "metadata": {
        "id": "LwR1wsl5HEUB",
        "colab_type": "code",
        "colab": {}
      },
      "source": [
        "AMT_REQ_CREDIT_BUREAU_columns = ['AMT_REQ_CREDIT_BUREAU_QRT','AMT_REQ_CREDIT_BUREAU_YEAR','AMT_REQ_CREDIT_BUREAU_WEEK',\n",
        "                                'AMT_REQ_CREDIT_BUREAU_MON', 'AMT_REQ_CREDIT_BUREAU_DAY','AMT_REQ_CREDIT_BUREAU_HOUR']\n",
        "\n",
        "\n",
        "for col in AMT_REQ_CREDIT_BUREAU_columns:\n",
        "    df_cleaned[col].fillna(0.0, inplace = True)\n",
        "\n",
        "\n",
        "print(color.BOLD + color.BLUE + 'Total no of missing values replaced by 0.0 : {0}'.format(missing_val ) + color.END)\n",
        "\n",
        "    \n",
        "        "
      ],
      "execution_count": 0,
      "outputs": []
    },
    {
      "cell_type": "markdown",
      "metadata": {
        "id": "7-LsYA21HEUD",
        "colab_type": "text"
      },
      "source": [
        "<a id = 'DataImputation_6' ></a>\n",
        "### Data imputation for \n",
        "  - **OBS_30_CNT_SOCIAL_CIRCLE**\n",
        "  - **DEF_30_CNT_SOCIAL_CIRCLE**\n",
        "  - **OBS_60_CNT_SOCIAL_CIRCLE**\n",
        "  - **DEF_60_CNT_SOCIAL_CIRCLE**\n",
        "  \n",
        "**As these are discete variables but the dtype is float,so we need to change the dtype to int.\n",
        "for this purpose we need to impute the missing values**"
      ]
    },
    {
      "cell_type": "code",
      "metadata": {
        "id": "3fSswleRHEUD",
        "colab_type": "code",
        "colab": {}
      },
      "source": [
        "# We need to check if all CNT_SOCIAL_CIRCLE columns have null values for same records\n",
        "missing_val = df_cleaned[(df_cleaned['OBS_30_CNT_SOCIAL_CIRCLE'].isnull() ) &\n",
        "          (df_cleaned['DEF_30_CNT_SOCIAL_CIRCLE'].isnull() ) &\n",
        "           (df_cleaned['DEF_60_CNT_SOCIAL_CIRCLE'].isnull() ) &\n",
        "           (df_cleaned['OBS_60_CNT_SOCIAL_CIRCLE'].isnull() ) ].shape[0]\n",
        "\n",
        "print(color.BOLD + color.BLUE + 'Total no of missing values : {0} '.format(missing_val ) + color.END)"
      ],
      "execution_count": 0,
      "outputs": []
    },
    {
      "cell_type": "code",
      "metadata": {
        "id": "2ZttBfGMHEUE",
        "colab_type": "code",
        "colab": {}
      },
      "source": [
        "#we need to find value which has highest count for OBS_30_CNT_SOCIAL_CIRCLE\n",
        "#this value can be used for further imputing\n",
        "OBS_30 = df_cleaned['OBS_30_CNT_SOCIAL_CIRCLE'].value_counts().nlargest(1)\n",
        "\n",
        "print(color.BOLD + color.BLUE + 'The highest no of values for OBS_30_CNT_SOCIAL_CIRCLE is {0} with count: {1}'.format(OBS_30.index[0],OBS_30[0] ) + color.END)\n",
        "\n",
        "\n",
        "#we need to find value which has highest count for DEF_30_CNT_SOCIAL_CIRCLE\n",
        "DEF_30 = df_cleaned['DEF_30_CNT_SOCIAL_CIRCLE'].value_counts().nlargest(1)\n",
        "\n",
        "print(color.BOLD + color.BLUE + 'The highest no of values for DEF_30_CNT_SOCIAL_CIRCLE is {0} with count: {1}'.format(DEF_30.index[0],DEF_30[0] ) + color.END)\n",
        "\n",
        "\n",
        "#we need to find value which has highest count for OBS_60_CNT_SOCIAL_CIRCLE\n",
        "OBS_60 = df_cleaned['OBS_60_CNT_SOCIAL_CIRCLE'].value_counts().nlargest(1)\n",
        "\n",
        "print(color.BOLD + color.BLUE + 'The highest no of values for OBS_60_CNT_SOCIAL_CIRCLE is {0} with count: {1}'.format(OBS_60.index[0],OBS_60[0] ) + color.END)\n",
        "\n",
        "\n",
        "#we need to find value which has highest count for DEF_60_CNT_SOCIAL_CIRCLE\n",
        "DEF_60 = df_cleaned['DEF_60_CNT_SOCIAL_CIRCLE'].value_counts().nlargest(1)\n",
        "\n",
        "print(color.BOLD + color.BLUE + 'The highest no of values for DEF_60_CNT_SOCIAL_CIRCLE is {0} with count: {1}'.format(DEF_60.index[0],DEF_60[0] ) + color.END)\n"
      ],
      "execution_count": 0,
      "outputs": []
    },
    {
      "cell_type": "markdown",
      "metadata": {
        "id": "TOMJXlEFHEUJ",
        "colab_type": "text"
      },
      "source": [
        "**It seems that default value, in absense of any valid value is 0.0.\n",
        "so we will impute these columns with 0.0**"
      ]
    },
    {
      "cell_type": "code",
      "metadata": {
        "id": "9p6L7lB0HEUJ",
        "colab_type": "code",
        "colab": {}
      },
      "source": [
        "CNT_SOCIAL_CIRCLE_columns = ['OBS_30_CNT_SOCIAL_CIRCLE','DEF_30_CNT_SOCIAL_CIRCLE',\n",
        "                                 'OBS_60_CNT_SOCIAL_CIRCLE','DEF_60_CNT_SOCIAL_CIRCLE']\n",
        "\n",
        "\n",
        "for col in CNT_SOCIAL_CIRCLE_columns:\n",
        "    df_cleaned[col].fillna(0.0, inplace = True)\n",
        "\n",
        "\n",
        "print(color.BOLD + color.BLUE + 'Total no of missing values replaced by 0.0 : {0}'.format(missing_val ) + color.END)\n"
      ],
      "execution_count": 0,
      "outputs": []
    },
    {
      "cell_type": "markdown",
      "metadata": {
        "id": "p0JGzzFjHEUL",
        "colab_type": "text"
      },
      "source": [
        "<a id = 'InspectDatatype' ></a>\n",
        "\n",
        "\n",
        "### Inspect Datatypes of Variables"
      ]
    },
    {
      "cell_type": "code",
      "metadata": {
        "colab_type": "code",
        "id": "0hdt-0kpXrEn",
        "colab": {}
      },
      "source": [
        "#check all dtype counts\n",
        "df_cleaned.dtypes.value_counts()"
      ],
      "execution_count": 0,
      "outputs": []
    },
    {
      "cell_type": "markdown",
      "metadata": {
        "id": "-xj7-YIfHEUN",
        "colab_type": "text"
      },
      "source": [
        "<a id = 'Object' ></a>\n",
        "### Inspect columns with object dtype"
      ]
    },
    {
      "cell_type": "code",
      "metadata": {
        "colab_type": "code",
        "id": "vXmPdpvpXrEp",
        "colab": {}
      },
      "source": [
        "#print columns for object dtype\n",
        "df_cleaned.select_dtypes('object').columns"
      ],
      "execution_count": 0,
      "outputs": []
    },
    {
      "cell_type": "code",
      "metadata": {
        "id": "zI4cvFEbHEUR",
        "colab_type": "code",
        "colab": {}
      },
      "source": [
        "#print the dtype = object records so that we can have quick look at data to check if any data issues\n",
        "df_cleaned[df_cleaned.select_dtypes('object').columns].head()"
      ],
      "execution_count": 0,
      "outputs": []
    },
    {
      "cell_type": "markdown",
      "metadata": {
        "id": "ZE19dY-MHEUW",
        "colab_type": "text"
      },
      "source": [
        "**<span style=\"color:blue\">\n",
        "    As dtype = object columns are categorical variables, they do not need any dtype change\n",
        "    </span>**"
      ]
    },
    {
      "cell_type": "markdown",
      "metadata": {
        "id": "r2IkZDdrHEUY",
        "colab_type": "text"
      },
      "source": [
        "<a id = 'Int' ></a>\n",
        "### Inspect columns with int64 dtype"
      ]
    },
    {
      "cell_type": "code",
      "metadata": {
        "colab_type": "code",
        "id": "R3xC1pOOXrEt",
        "colab": {}
      },
      "source": [
        "#print columns for int64 dtype\n",
        "df_cleaned.select_dtypes('int64').columns"
      ],
      "execution_count": 0,
      "outputs": []
    },
    {
      "cell_type": "code",
      "metadata": {
        "id": "95YsmC1FHEUd",
        "colab_type": "code",
        "colab": {}
      },
      "source": [
        "#print the dtype = int64 records so that we can have quick look at data to check if any data issues\n",
        "df_cleaned[df_cleaned.select_dtypes('int64').columns].head()"
      ],
      "execution_count": 0,
      "outputs": []
    },
    {
      "cell_type": "markdown",
      "metadata": {
        "id": "0uZnvPHeHEUh",
        "colab_type": "text"
      },
      "source": [
        "<a id = 'Fix_1'></a>\n",
        "**<span style=\"color:blue\">\n",
        "    As DAYS_BIRTH,DAYS_EMPLOYED, DAYS_ID_PUBLISH are descrete values. \n",
        "    we can change them to +values as -ve values do not make any sense and can affect future analysis\n",
        "    </span>**"
      ]
    },
    {
      "cell_type": "code",
      "metadata": {
        "id": "-oaZ4DxJHEUi",
        "colab_type": "code",
        "colab": {}
      },
      "source": [
        "#As DAYS_BIRTH,DAYS_EMPLOYED, DAYS_ID_PUBLISH are descrete values, \n",
        "#we can change them to +values as -ve values do not make any sense\n",
        "\n",
        "no_of_rec = df_cleaned[df_cleaned['DAYS_BIRTH'] >= 0].shape[0]\n",
        "print(color.BOLD + color.BLUE + 'Total no of records with + value for DAYS_BIRTH  : {0}'.format(no_of_rec ) + color.END)\n",
        "df_cleaned['DAYS_BIRTH']  = np.abs(df_cleaned['DAYS_BIRTH'])\n",
        "\n",
        "\n",
        "\n",
        "no_of_rec = df_cleaned[df_cleaned['DAYS_EMPLOYED'] >= 0].shape[0]\n",
        "print(color.BOLD + color.BLUE + 'Total no of records with + value for DAYS_EMPLOYED  : {0}'.format(no_of_rec ) + color.END)\n",
        "df_cleaned['DAYS_EMPLOYED']  = np.abs(df_cleaned['DAYS_EMPLOYED'])\n",
        "\n",
        "\n",
        "\n",
        "no_of_rec = df_cleaned[df_cleaned['DAYS_ID_PUBLISH'] >= 0].shape[0]\n",
        "print(color.BOLD + color.BLUE + 'Total no of records with + value for DAYS_ID_PUBLISH  : {0}'.format(no_of_rec ) + color.END)\n",
        "df_cleaned['DAYS_ID_PUBLISH']  = np.abs(df_cleaned['DAYS_ID_PUBLISH'])\n",
        "\n",
        "\n",
        "print(color.BOLD + color.BLUE + 'Changed columns DAYS_BIRTH ,DAYS_EMPLOYED,DAYS_ID_PUBLISH values from -ve to absolute' + color.END)\n"
      ],
      "execution_count": 0,
      "outputs": []
    },
    {
      "cell_type": "code",
      "metadata": {
        "id": "N_IeFlSIHEUj",
        "colab_type": "code",
        "colab": {}
      },
      "source": [
        "# for NAME_INCOME_TYPE = Pensioner, DAYS_EMPLOYED should be 365243 which is a default value.\n",
        "# This isa data quality issue\n",
        "#df_cleaned[df_cleaned['DAYS_EMPLOYED'] >= 0]\n",
        "df_cleaned[df_cleaned['NAME_INCOME_TYPE'] == 'Pensioner']['DAYS_EMPLOYED'].value_counts()"
      ],
      "execution_count": 0,
      "outputs": []
    },
    {
      "cell_type": "markdown",
      "metadata": {
        "id": "nNfPtTFmHEUl",
        "colab_type": "text"
      },
      "source": [
        "<a id = 'Float' ></a>\n",
        "### Inspect columns with float64 dtype"
      ]
    },
    {
      "cell_type": "code",
      "metadata": {
        "colab_type": "code",
        "id": "acHBm1QBXUQX",
        "colab": {}
      },
      "source": [
        "#print columns for float64 dtype\n",
        "df_cleaned.select_dtypes('float64').columns"
      ],
      "execution_count": 0,
      "outputs": []
    },
    {
      "cell_type": "code",
      "metadata": {
        "id": "aXpb2BYbHEUp",
        "colab_type": "code",
        "colab": {}
      },
      "source": [
        "#print the dtype = float64 records so that we can have quick look at data to check if any data issues\n",
        "df_cleaned[df_cleaned.select_dtypes('float64').columns].head()"
      ],
      "execution_count": 0,
      "outputs": []
    },
    {
      "cell_type": "markdown",
      "metadata": {
        "id": "B5wbk-S4HEUr",
        "colab_type": "text"
      },
      "source": [
        "<a id = 'Fix_2'></a>\n",
        "### Dtype change for \n",
        "  - **DAYS_REGISTRATION**\n",
        "  - **CNT_FAM_MEMBERS**\n",
        "  - **OBS_30_CNT_SOCIAL_CIRCLE**\n",
        "  - **DEF_30_CNT_SOCIAL_CIRCLE**\n",
        "  - **OBS_60_CNT_SOCIAL_CIRCLE**\n",
        "  - **DEF_60_CNT_SOCIAL_CIRCLE**\n",
        "  - **DAYS_LAST_PHONE_CHANGE**"
      ]
    },
    {
      "cell_type": "code",
      "metadata": {
        "id": "MmaXlGnoHEUs",
        "colab_type": "code",
        "colab": {}
      },
      "source": [
        "#DAYS_REGISTRATION is a descrete variable so it can be changed from float to int\n",
        "#also the value should be changed to absolute\n",
        "\n",
        "#Step 1: change dtype\n",
        "\n",
        "col_list = ['DAYS_REGISTRATION','CNT_FAM_MEMBERS','DAYS_LAST_PHONE_CHANGE',\n",
        "            'OBS_30_CNT_SOCIAL_CIRCLE','DEF_30_CNT_SOCIAL_CIRCLE','OBS_60_CNT_SOCIAL_CIRCLE','DEF_60_CNT_SOCIAL_CIRCLE' ]\n",
        "for col in col_list:\n",
        "    df_cleaned[col] = df_cleaned[col].astype('int')\n",
        "    \n",
        "print(color.BOLD + color.BLUE + 'Changed {0} columns dataype to int'.format(len(col_list)) + color.END)\n",
        "\n",
        "#Step 2: change values from negative to absolute\n",
        "no_of_rec = df_cleaned[df_cleaned['DAYS_REGISTRATION'] >= 0].shape[0]\n",
        "print(color.BOLD + color.BLUE + 'Total no of records with + value for DAYS_REGISTRATION  : {0}'.format(no_of_rec ) + color.END)\n",
        "df_cleaned['DAYS_REGISTRATION']  = np.abs(df_cleaned['DAYS_REGISTRATION'])\n",
        "df_cleaned['DAYS_LAST_PHONE_CHANGE']  = np.abs(df_cleaned['DAYS_LAST_PHONE_CHANGE'])\n",
        "\n",
        "\n",
        "print(color.BOLD + color.BLUE + 'Changed columns DAYS_REGISTRATION & DAYS_LAST_PHONE_CHANGE dataype to int as well as values from -ve to absolute' + color.END)\n"
      ],
      "execution_count": 0,
      "outputs": []
    },
    {
      "cell_type": "markdown",
      "metadata": {
        "id": "Lk-wJs01HEUu",
        "colab_type": "text"
      },
      "source": [
        "<a id = 'Outliers'></a>\n",
        "\n",
        "## Outliers in the Numerical Data\n",
        "\n",
        "**We will check numerical variables for the outliers, outliers can affect, the sample statistics and might affect future analysis.**\n",
        "\n",
        "**We will consider below variables for the outlier analysis**\n",
        "\n",
        "  - AMT_INCOME_TOTAL\n",
        "  - AMT_ANNUITY\n",
        "  - AMT_GOODS_PRICE\n",
        "  - CNT_FAM_MEMBERS\n",
        "  \n",
        "  "
      ]
    },
    {
      "cell_type": "code",
      "metadata": {
        "id": "qV3pf9obHEUu",
        "colab_type": "code",
        "colab": {}
      },
      "source": [
        "df_cleaned[['AMT_INCOME_TOTAL', 'AMT_ANNUITY', 'AMT_GOODS_PRICE','CNT_FAM_MEMBERS']].describe()"
      ],
      "execution_count": 0,
      "outputs": []
    },
    {
      "cell_type": "markdown",
      "metadata": {
        "id": "owS1oGJPHEUw",
        "colab_type": "text"
      },
      "source": [
        "**We have selected above 4 columns for outlier analysis by looking at Minimum/maxiumum values as well as the mean and standard deviation values**\n",
        "\n",
        "\n",
        "**as the above columns have larger standard deviation we would like to reduce the standard deviation to reduce bias in future analsysis and inferences**"
      ]
    },
    {
      "cell_type": "markdown",
      "metadata": {
        "id": "Bz7zNVkXHEUx",
        "colab_type": "text"
      },
      "source": [
        "<a id = 'AMT_INCOME_TOTAL'></a>\n",
        "\n",
        "### Outlier analysis for AMT_INCOME_TOTAL"
      ]
    },
    {
      "cell_type": "code",
      "metadata": {
        "id": "F1mwc3MeHEUx",
        "colab_type": "code",
        "colab": {}
      },
      "source": [
        "enable_plotly_in_cell()\n",
        "clmn= 'AMT_INCOME_TOTAL'\n",
        "df_cleaned['AMT_INCOME_TOTAL'].iplot(kind=\"box\", boxpoints = 'outliers', theme=\"white\", title=\"AMT_INCOME_TOTAL\", yTitle='Price in $')\n"
      ],
      "execution_count": 0,
      "outputs": []
    },
    {
      "cell_type": "code",
      "metadata": {
        "id": "xM8Oygp0QKOI",
        "colab_type": "code",
        "colab": {}
      },
      "source": [
        "#Lets calculate the upper bound and lower bounds for outliers\n",
        "q1, q3= np.percentile(df_cleaned['AMT_INCOME_TOTAL'].dropna(),[25,75])\n",
        "iqr = q3 - q1\n",
        "lower_bound = q1 -(1.5 * iqr) \n",
        "upper_bound = q3 +(1.5 * iqr) "
      ],
      "execution_count": 0,
      "outputs": []
    },
    {
      "cell_type": "code",
      "metadata": {
        "id": "G4hIwKgDQsyL",
        "colab_type": "code",
        "colab": {}
      },
      "source": [
        "Total_no_of_outliers = df_cleaned[(df_cleaned['AMT_INCOME_TOTAL'] > upper_bound) | (df_cleaned['AMT_INCOME_TOTAL'] < lower_bound) ].shape[0]\n",
        "\n",
        "print(color.BOLD + color.BLUE + 'Lower bound for outliers : {0} & Upper bound : {1}'.format(lower_bound,upper_bound ) + color.END)\n",
        "\n",
        "print(color.BOLD + color.BLUE + 'Total no of outliers for column {0} : {1}'.format(clmn,Total_no_of_outliers ) + color.END)"
      ],
      "execution_count": 0,
      "outputs": []
    },
    {
      "cell_type": "code",
      "metadata": {
        "id": "TsqAd3QlSFdb",
        "colab_type": "code",
        "colab": {}
      },
      "source": [
        "#calculate % of outliers in the data\n",
        "100*Total_no_of_outliers/df_cleaned.shape[0]"
      ],
      "execution_count": 0,
      "outputs": []
    },
    {
      "cell_type": "code",
      "metadata": {
        "id": "0LczKMtxHEU2",
        "colab_type": "code",
        "colab": {}
      },
      "source": [
        "#Delete the AMT_INCOME_TOTAL outliers from the dataset\n",
        "df_cleaned = df_cleaned[(df_cleaned['AMT_INCOME_TOTAL'] <= upper_bound) & (df_cleaned['AMT_INCOME_TOTAL'] >= lower_bound )]"
      ],
      "execution_count": 0,
      "outputs": []
    },
    {
      "cell_type": "markdown",
      "metadata": {
        "id": "3Tycb2FGHEU6",
        "colab_type": "text"
      },
      "source": [
        "<a id = 'AMT_ANNUITY'></a>\n",
        "\n",
        "### Outlier analysis for AMT_ANNUITY"
      ]
    },
    {
      "cell_type": "code",
      "metadata": {
        "id": "MnSiieEsHEU7",
        "colab_type": "code",
        "colab": {}
      },
      "source": [
        "enable_plotly_in_cell()\n",
        "clmn = 'AMT_ANNUITY'\n",
        "df_cleaned['AMT_ANNUITY'].iplot(kind=\"box\", boxpoints = 'outliers', theme=\"white\", title=\"AMT_ANNUITY\",\n",
        "                                 yTitle='Price in $')\n",
        "\n",
        "\n"
      ],
      "execution_count": 0,
      "outputs": []
    },
    {
      "cell_type": "code",
      "metadata": {
        "id": "N19tVCQoSdGL",
        "colab_type": "code",
        "colab": {}
      },
      "source": [
        "#Lets calculate the upper bound and lower bounds for outliers\n",
        "q1, q3= np.percentile(df_cleaned['AMT_ANNUITY'].dropna(),[25,75])\n",
        "iqr = q3 - q1\n",
        "lower_bound = q1 -(1.5 * iqr) \n",
        "upper_bound = q3 +(1.5 * iqr) "
      ],
      "execution_count": 0,
      "outputs": []
    },
    {
      "cell_type": "code",
      "metadata": {
        "id": "0UH6swRKSdcg",
        "colab_type": "code",
        "colab": {}
      },
      "source": [
        "\n",
        "Total_no_of_outliers = df_cleaned[(df_cleaned['AMT_ANNUITY'] > upper_bound) | (df_cleaned['AMT_ANNUITY'] < lower_bound) ].shape[0]\n",
        "\n",
        "print(color.BOLD + color.BLUE + 'Lower bound for outliers : {0} & Upper bound : {1}'.format(lower_bound,upper_bound ) + color.END)\n",
        "\n",
        "print(color.BOLD + color.BLUE + 'Total no of outliers for column {0} : {1}'.format(clmn,Total_no_of_outliers ) + color.END)"
      ],
      "execution_count": 0,
      "outputs": []
    },
    {
      "cell_type": "code",
      "metadata": {
        "id": "fgxHDTksHEU9",
        "colab_type": "code",
        "colab": {}
      },
      "source": [
        "#calculate % of outliers in the data\n",
        "100*Total_no_of_outliers/df_cleaned.shape[0]"
      ],
      "execution_count": 0,
      "outputs": []
    },
    {
      "cell_type": "code",
      "metadata": {
        "id": "pRRm89K_HEVA",
        "colab_type": "code",
        "colab": {}
      },
      "source": [
        "#remove AMT_ANNUITY outliers from the dataset\n",
        "df_cleaned = df_cleaned[(df_cleaned['AMT_ANNUITY'] <= upper_bound) & (df_cleaned['AMT_ANNUITY'] >= lower_bound )]"
      ],
      "execution_count": 0,
      "outputs": []
    },
    {
      "cell_type": "markdown",
      "metadata": {
        "id": "x2yrj7tVHEVE",
        "colab_type": "text"
      },
      "source": [
        "<a id = 'AMT_GOODS_PRICE'></a>\n",
        "\n",
        "### Outlier analysis for AMT_GOODS_PRICE"
      ]
    },
    {
      "cell_type": "code",
      "metadata": {
        "id": "VQPNFtN5HEVF",
        "colab_type": "code",
        "colab": {}
      },
      "source": [
        "enable_plotly_in_cell()\n",
        "clmn = 'AMT_GOODS_PRICE'\n",
        "df_cleaned['AMT_GOODS_PRICE'].iplot(kind=\"box\", boxpoints = 'outliers', theme=\"white\", title=\"AMT_GOODS_PRICE\",\n",
        "                                 yTitle='Price in $')\n",
        "\n",
        "\n",
        "\n"
      ],
      "execution_count": 0,
      "outputs": []
    },
    {
      "cell_type": "code",
      "metadata": {
        "id": "wB4glOdHTXv0",
        "colab_type": "code",
        "colab": {}
      },
      "source": [
        "#Lets calculate the upper bound and lower bounds for outliers\n",
        "q1, q3= np.percentile(df_cleaned['AMT_GOODS_PRICE'].dropna(),[25,75])\n",
        "iqr = q3 - q1\n",
        "lower_bound = q1 -(1.5 * iqr) \n",
        "upper_bound = q3 +(1.5 * iqr) "
      ],
      "execution_count": 0,
      "outputs": []
    },
    {
      "cell_type": "code",
      "metadata": {
        "id": "ftnWQ0KyTY2o",
        "colab_type": "code",
        "colab": {}
      },
      "source": [
        "\n",
        "Total_no_of_outliers = df_cleaned[(df_cleaned['AMT_GOODS_PRICE'] > upper_bound) | (df_cleaned['AMT_GOODS_PRICE'] < lower_bound) ].shape[0]\n",
        "\n",
        "print(color.BOLD + color.BLUE + 'Lower bound for outliers : {0} & Upper bound : {1}'.format(lower_bound,upper_bound ) + color.END)\n",
        "\n",
        "print(color.BOLD + color.BLUE + 'Total no of outliers for column {0} : {1}'.format(clmn,Total_no_of_outliers ) + color.END)"
      ],
      "execution_count": 0,
      "outputs": []
    },
    {
      "cell_type": "code",
      "metadata": {
        "id": "RqeavJk-HEVH",
        "colab_type": "code",
        "colab": {}
      },
      "source": [
        "#calculate % of outliers in the data\n",
        "100*Total_no_of_outliers/df_cleaned.shape[0]"
      ],
      "execution_count": 0,
      "outputs": []
    },
    {
      "cell_type": "code",
      "metadata": {
        "id": "EYIpS4JjHEVI",
        "colab_type": "code",
        "colab": {}
      },
      "source": [
        "#remove AMT_GOODS_PRICE outliers from the dataset\n",
        "df_cleaned = df_cleaned[(df_cleaned['AMT_GOODS_PRICE'] <= upper_bound) & (df_cleaned['AMT_GOODS_PRICE'] >= lower_bound )]"
      ],
      "execution_count": 0,
      "outputs": []
    },
    {
      "cell_type": "markdown",
      "metadata": {
        "id": "n1Ccx5VEHEVK",
        "colab_type": "text"
      },
      "source": [
        "<a id = 'CNT_FAM_MEMBERS'></a>\n",
        "\n",
        "### Outlier analysis for CNT_FAM_MEMBERS"
      ]
    },
    {
      "cell_type": "code",
      "metadata": {
        "scrolled": true,
        "id": "ny5qyIcYHEVK",
        "colab_type": "code",
        "colab": {}
      },
      "source": [
        "enable_plotly_in_cell()\n",
        "clmn = 'CNT_FAM_MEMBERS'\n",
        "df_cleaned['CNT_FAM_MEMBERS'].iplot(kind=\"box\", boxpoints = 'outliers', theme=\"white\", title=\"CNT_FAM_MEMBERS\",\n",
        "                                 yTitle='No of members')\n",
        "\n"
      ],
      "execution_count": 0,
      "outputs": []
    },
    {
      "cell_type": "code",
      "metadata": {
        "id": "TShUj2zNaB4f",
        "colab_type": "code",
        "colab": {}
      },
      "source": [
        "#Lets calculate the upper bound and lower bounds for outliers\n",
        "q1, q3= np.percentile(df_cleaned['CNT_FAM_MEMBERS'].dropna(),[25,75])\n",
        "iqr = q3 - q1\n",
        "lower_bound = round(q1 -(1.5 * iqr)) \n",
        "upper_bound = round(q3 +(1.5 * iqr)) "
      ],
      "execution_count": 0,
      "outputs": []
    },
    {
      "cell_type": "code",
      "metadata": {
        "id": "_C9NfV8EaCLG",
        "colab_type": "code",
        "colab": {}
      },
      "source": [
        "\n",
        "Total_no_of_outliers = df_cleaned[(df_cleaned['CNT_FAM_MEMBERS'] > upper_bound) | (df_cleaned['CNT_FAM_MEMBERS'] < lower_bound) ].shape[0]\n",
        "\n",
        "print(color.BOLD + color.BLUE + 'Lower bound for outliers : {0} & Upper bound : {1}'.format(lower_bound,upper_bound ) + color.END)\n",
        "\n",
        "print(color.BOLD + color.BLUE + 'Total no of outliers for column {0} : {1}'.format(clmn,Total_no_of_outliers ) + color.END)\n"
      ],
      "execution_count": 0,
      "outputs": []
    },
    {
      "cell_type": "code",
      "metadata": {
        "id": "91jAUaFEHEVN",
        "colab_type": "code",
        "colab": {}
      },
      "source": [
        "#calculate % of outliers in the data\n",
        "100*Total_no_of_outliers/df_cleaned.shape[0]"
      ],
      "execution_count": 0,
      "outputs": []
    },
    {
      "cell_type": "code",
      "metadata": {
        "id": "pvIGl_5-HEVO",
        "colab_type": "code",
        "colab": {}
      },
      "source": [
        "#remove AMT_ANNUITY outliers from the dataset\n",
        "df_cleaned = df_cleaned[(df_cleaned['CNT_FAM_MEMBERS'] <= upper_bound) & (df_cleaned['CNT_FAM_MEMBERS'] >= lower_bound )]"
      ],
      "execution_count": 0,
      "outputs": []
    },
    {
      "cell_type": "markdown",
      "metadata": {
        "id": "fcq0SvpwHEVQ",
        "colab_type": "text"
      },
      "source": [
        "<a id = 'Binning'></a>\n",
        "\n",
        "### Binning continous variables"
      ]
    },
    {
      "cell_type": "markdown",
      "metadata": {
        "id": "_jTTXf2lHEVQ",
        "colab_type": "text"
      },
      "source": [
        "<a id = 'DAYS_BIRTH'></a>\n",
        "\n",
        "### DAYS_BIRTH\n",
        "\n",
        "**We can create categories with age in years for DAYS_BIRTH variable. which can help us for futher analysis.**"
      ]
    },
    {
      "cell_type": "code",
      "metadata": {
        "id": "s7EppfvdHEVQ",
        "colab_type": "code",
        "colab": {}
      },
      "source": [
        "def age(days):\n",
        "    years = days/365\n",
        "    \n",
        "    if years <30:\n",
        "        return '20+'\n",
        "    elif (years >=30 and years < 40):\n",
        "        return '30+'\n",
        "    elif (years >=40 and years < 50):\n",
        "        return '40+'\n",
        "    elif (years >=50 and years < 60):\n",
        "        return '50+'\n",
        "    elif (years >=60 and years < 70):\n",
        "        return '60+'\n",
        "    else:\n",
        "        return '70+'"
      ],
      "execution_count": 0,
      "outputs": []
    },
    {
      "cell_type": "code",
      "metadata": {
        "id": "xKlCNhSZHEVS",
        "colab_type": "code",
        "colab": {}
      },
      "source": [
        "\n",
        "df_cleaned['Age_Years'] =  df_cleaned['DAYS_BIRTH'].apply(lambda x:age(x))"
      ],
      "execution_count": 0,
      "outputs": []
    },
    {
      "cell_type": "code",
      "metadata": {
        "id": "cvdjxXyGHEVT",
        "colab_type": "code",
        "colab": {}
      },
      "source": [
        "sns.countplot(df_cleaned['Age_Years'])\n",
        "plt.show()"
      ],
      "execution_count": 0,
      "outputs": []
    },
    {
      "cell_type": "markdown",
      "metadata": {
        "id": "GuKkCXslHEVU",
        "colab_type": "text"
      },
      "source": [
        "<a id = 'DAYS_EMPLOYED'></a>\n",
        "\n",
        "### DAYS_EMPLOYED\n",
        "\n",
        "**We can create employement period in years from DAYS_EMPLOYED variable. which can help us for futher analysis.**\n",
        "\n",
        "**we have a value 365243 which is a default value for retired applicants , this should be also taken care of during this binning process**"
      ]
    },
    {
      "cell_type": "code",
      "metadata": {
        "id": "6L6dBYzGHEVU",
        "colab_type": "code",
        "colab": {}
      },
      "source": [
        "def age(days):\n",
        "    years = days/365\n",
        "    \n",
        "    if years == 0:\n",
        "        return '0'\n",
        "    elif (years >0 and years <= 5):\n",
        "        return '0-5'\n",
        "    elif (years > 5 and years <=10 ):\n",
        "        return '5-10'\n",
        "    elif (years > 10 and years <=15 ):\n",
        "        return '10-15'\n",
        "    elif (years > 15 and years <=20 ):\n",
        "        return '15-20'\n",
        "    elif (years > 20 and years <=25 ):\n",
        "        return '20-25'\n",
        "    elif (years > 25 and years <=30 ):\n",
        "        return '25-30'\n",
        "    elif (years > 30 and years <=35 ):\n",
        "        return '30-35'\n",
        "    elif (years > 35 and years <=40 ):\n",
        "        return '35-40'\n",
        "    elif (years > 40 and years <=45 ):\n",
        "        return '40-45'\n",
        "    elif (years > 45 and years < 999 ):\n",
        "        return '45+'\n",
        "    else:\n",
        "        return 'Retired'"
      ],
      "execution_count": 0,
      "outputs": []
    },
    {
      "cell_type": "code",
      "metadata": {
        "id": "uRZu3VQOHEVV",
        "colab_type": "code",
        "colab": {}
      },
      "source": [
        "df_cleaned['Employement_years'] =  df_cleaned['DAYS_EMPLOYED'].apply(lambda x:age(x))"
      ],
      "execution_count": 0,
      "outputs": []
    },
    {
      "cell_type": "code",
      "metadata": {
        "id": "KM1hzdanHEVY",
        "colab_type": "code",
        "colab": {}
      },
      "source": [
        "sns.countplot(df_cleaned['Employement_years'])\n",
        "plt.xticks(rotation=45)\n",
        "plt.show()"
      ],
      "execution_count": 0,
      "outputs": []
    },
    {
      "cell_type": "code",
      "metadata": {
        "id": "LO5_tEVnLzk7",
        "colab_type": "code",
        "colab": {}
      },
      "source": [
        "##As the DAYS_EMPLOYED should be 365243 can affect future analysis, we can replace this value with null\n",
        "\n",
        "df_cleaned.replace(365243,np.nan, inplace = True)"
      ],
      "execution_count": 0,
      "outputs": []
    },
    {
      "cell_type": "markdown",
      "metadata": {
        "id": "UsdUCoS1HEVZ",
        "colab_type": "text"
      },
      "source": [
        "<a id = 'Export'></a>\n",
        "\n",
        "## Export cleaned data to a csv file"
      ]
    },
    {
      "cell_type": "code",
      "metadata": {
        "id": "5CotX8L-HEVZ",
        "colab_type": "code",
        "colab": {}
      },
      "source": [
        "df_cleaned.to_csv('Data_notebook1.csv')"
      ],
      "execution_count": 0,
      "outputs": []
    },
    {
      "cell_type": "markdown",
      "metadata": {
        "id": "AaWngt41HEVa",
        "colab_type": "text"
      },
      "source": [
        "## Continue further analysis on Notebook: \n",
        "Credit EDA Case Study-Part II.ipynb"
      ]
    },
    {
      "cell_type": "code",
      "metadata": {
        "id": "i3fkwZpfHEVb",
        "colab_type": "code",
        "colab": {}
      },
      "source": [
        ""
      ],
      "execution_count": 0,
      "outputs": []
    }
  ]
}