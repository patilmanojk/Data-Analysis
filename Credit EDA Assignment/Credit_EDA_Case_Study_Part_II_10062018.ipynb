{
  "nbformat": 4,
  "nbformat_minor": 0,
  "metadata": {
    "colab": {
      "name": "Credit EDA Case Study-Part II 10062018.ipynb",
      "version": "0.3.2",
      "provenance": [],
      "collapsed_sections": [
        "Wr258lWEMwn5",
        "bTgaT6veMwoB",
        "xn4UIqgyMwoK",
        "DeGv99wFMwoP",
        "66UvmvaXMwoT",
        "Ej3N7pPzMwoY",
        "jwbwDeIPMwof",
        "ABHcgG2uMwok",
        "Nqej_RAgMwot",
        "Ke5Fh7UVMwpV",
        "dn0zUYp_Mwph",
        "GuX85VHYMwpl",
        "7ZFp4ll_MwqG",
        "JFGOM6kkMwrA",
        "RwyGE-vpMwrK",
        "10LXASdmMwrZ",
        "g29mYukIMwrj",
        "NFJQtz0qMwsG",
        "PxkhZ7p0MwsV",
        "J7q670fOMwsj",
        "goXp9EAkMwsv",
        "pt9L47t1Mwsw"
      ]
    },
    "language_info": {
      "codemirror_mode": {
        "name": "ipython",
        "version": 3
      },
      "file_extension": ".py",
      "mimetype": "text/x-python",
      "name": "python",
      "nbconvert_exporter": "python",
      "pygments_lexer": "ipython3",
      "version": "3.6.8"
    },
    "kernelspec": {
      "display_name": "Python 3",
      "language": "python",
      "name": "python3"
    }
  },
  "cells": [
    {
      "cell_type": "markdown",
      "metadata": {
        "id": "MulOxHOUMwls",
        "colab_type": "text"
      },
      "source": [
        "## Table of Contents:\n",
        "\n",
        "  1. [Import Libraries and setup environment](#Import)\n",
        "  2. [Read csv data file and create Dataframe](#ReadData)\n",
        "  3. [Data Imbalance Analysis](#Imbalance)\n",
        "  4. [Splitting dataframe](#TargetDF)\n",
        "  5. [Correlation Analysis](#Correlation)\n",
        "    - [Positive Correlation](#+Corr)\n",
        "    - [Negative Correlation](#-Corr)\n",
        "  6. [Segmented Univariate analysis](#SegUni)\n",
        "    - [NAME_HOUSING_TYPE](#NAME_HOUSING_TYPE)\n",
        "    - [NAME_FAMILY_STATUS](#NAME_FAMILY_STATUS)\n",
        "    - [NAME_INCOME_TYPE](#NAME_INCOME_TYPE)\n",
        "    - [OCCUPATION_TYPE](#OCCUPATION_TYPE)\n",
        "    - [EDUCATION](#EDUCATION)\n",
        "  7. [Univerate Analysis](#Uni)\n",
        "    - [INCOME_TOTAL](#Uni1)\n",
        "    - [AMT_ANNUITY](#Uni2)\n",
        "    - [AMT_CREDIT](#Uni3)\n",
        "    - [REGION_POPULATION_RELATIVE](#Uni4)\n",
        "    - [DAYS_BIRTH](#Uni5)\n",
        "  8. [Bivariate Analysis](#Bivariate)\n",
        "    - [DAYS_BIRTH and DAYS_EMPLOYED](#BA1)\n",
        "    - [AMT_CREDIT and DAYS_EMPLOYED](#BA2)\n",
        "    - [AMT_CREDIT and AMT_GOODS_PRICE](#BA3)\n",
        "    - [AMT_CREDIT and AMT_ANNUITY](#BA4)\n",
        "    - [ AMT_GOODS_PRICE and AMT_ANNUITY](#BA5)\n",
        "  9. [Analyse Previous application data](#PrevApp)\n",
        "    - [Data load and basic check](#dlbc)\n",
        "    - [Creation of merged dataframes](#cmdf)\n",
        "    - [Segmented Univariate Analysis](#pasua)\n",
        "    - [Univariate Analysis](#paua)\n",
        "    - [Bivariate Analysis](#paba)\n",
        "  10. [Summary](#summary)\n"
      ]
    },
    {
      "cell_type": "markdown",
      "metadata": {
        "id": "rb4a9vT-Mwlu",
        "colab_type": "text"
      },
      "source": [
        "<a id='Import'></a>\n",
        "## Import all the required libraries"
      ]
    },
    {
      "cell_type": "code",
      "metadata": {
        "id": "iolOWMXcMwlv",
        "colab_type": "code",
        "colab": {}
      },
      "source": [
        "import pandas as pd\n",
        "import numpy as np\n",
        "import matplotlib.pyplot as plt\n",
        "import seaborn as sns\n",
        "import plotly.plotly as py\n",
        "from plotly import tools\n",
        "import plotly.graph_objs as go\n",
        "sns.set(style=\"darkgrid\")\n",
        "%matplotlib inline\n",
        "#importing plotly and cufflinks in offline mode\n",
        "import cufflinks as cf\n",
        "import plotly.offline\n",
        "cf.go_offline()\n",
        "cf.set_config_file(offline=False, world_readable=True)"
      ],
      "execution_count": 0,
      "outputs": []
    },
    {
      "cell_type": "code",
      "metadata": {
        "id": "QrdJ4AjDMwl_",
        "colab_type": "code",
        "colab": {}
      },
      "source": [
        "# Create a class color for setting print formatting\n",
        "class color:\n",
        "   PURPLE = '\\033[95m'\n",
        "   CYAN = '\\033[96m'\n",
        "   DARKCYAN = '\\033[36m'\n",
        "   BLUE = '\\033[94m'\n",
        "   GREEN = '\\033[92m'\n",
        "   YELLOW = '\\033[93m'\n",
        "   RED = '\\033[91m'\n",
        "   BOLD = '\\033[1m'\n",
        "   UNDERLINE = '\\033[4m'\n",
        "   END = '\\033[0m'"
      ],
      "execution_count": 0,
      "outputs": []
    },
    {
      "cell_type": "code",
      "metadata": {
        "id": "zhG5XiosMwmD",
        "colab_type": "code",
        "colab": {}
      },
      "source": [
        "# Function to display plotly offline plots in Juputer notebook cells\n",
        "def enable_plotly_in_cell():\n",
        "  import IPython\n",
        "  from plotly.offline import init_notebook_mode\n",
        "  display(IPython.core.display.HTML('''<script src=\"/static/components/requirejs/require.js\"></script>'''))\n",
        "  init_notebook_mode(connected=False)"
      ],
      "execution_count": 0,
      "outputs": []
    },
    {
      "cell_type": "code",
      "metadata": {
        "id": "xF6Ym1WuMwmF",
        "colab_type": "code",
        "colab": {}
      },
      "source": [
        "#Setup the display options so that all the columns are displayed on the screen\n",
        "\n",
        "pd.options.display.max_columns = 150"
      ],
      "execution_count": 0,
      "outputs": []
    },
    {
      "cell_type": "markdown",
      "metadata": {
        "id": "LlmSWe76MwmJ",
        "colab_type": "text"
      },
      "source": [
        "<a id='ReadData'></a>\n",
        "## Read csv data file and create Dataframe\n"
      ]
    },
    {
      "cell_type": "code",
      "metadata": {
        "id": "BhUGcvyhMwnC",
        "colab_type": "code",
        "colab": {}
      },
      "source": [
        "df_cleaned = pd.read_csv(\"Data_notebook1.csv\")"
      ],
      "execution_count": 0,
      "outputs": []
    },
    {
      "cell_type": "code",
      "metadata": {
        "id": "J3sVLC3fMwnF",
        "colab_type": "code",
        "colab": {}
      },
      "source": [
        "df_cleaned = df_cleaned.drop(columns=['Unnamed: 0'])"
      ],
      "execution_count": 0,
      "outputs": []
    },
    {
      "cell_type": "markdown",
      "metadata": {
        "id": "kgxzhpC6MwnI",
        "colab_type": "text"
      },
      "source": [
        "<a id='Imbalance'></a>\n",
        "## Data Imbalance Analysis"
      ]
    },
    {
      "cell_type": "code",
      "metadata": {
        "id": "9dqicwvKMwnJ",
        "colab_type": "code",
        "colab": {}
      },
      "source": [
        "df_cleaned.head()"
      ],
      "execution_count": 0,
      "outputs": []
    },
    {
      "cell_type": "code",
      "metadata": {
        "id": "DO4UbklgMwnO",
        "colab_type": "code",
        "colab": {}
      },
      "source": [
        "ax = sns.countplot(df_cleaned['TARGET'])\n",
        "for p in ax.patches:\n",
        "    width, height = p.get_width(), p.get_height()\n",
        "    x, y = p.get_xy() \n",
        "    ax.annotate('{:.4f} %'.format(100* height/df_cleaned['TARGET'].shape[0]), (p.get_x()+.35*width, p.get_y()+.4*height))\n",
        "plt.tight_layout()\n",
        "plt.title(\"Data Imbalance %\",fontsize= 16, color = 'darkcyan')\n",
        "#plt.legend(bbox_to_anchor=(1, 1.05))\n",
        "plt.show()"
      ],
      "execution_count": 0,
      "outputs": []
    },
    {
      "cell_type": "markdown",
      "metadata": {
        "id": "u0pYsCrTMwnS",
        "colab_type": "text"
      },
      "source": [
        "### Conclusion\n",
        "\n",
        "After data cleanup and imputation\n",
        "\n",
        "**Target = 0 has 91.6499% data**\n",
        "\n",
        "**Target = 1 has 8.3501% data**\n"
      ]
    },
    {
      "cell_type": "markdown",
      "metadata": {
        "id": "Y0zpu4CcMwnT",
        "colab_type": "text"
      },
      "source": [
        "<a id = 'TargetDF'></a>\n",
        "\n",
        "## Splitting data in seperate dataframes"
      ]
    },
    {
      "cell_type": "code",
      "metadata": {
        "id": "GkPmeT3SMwnT",
        "colab_type": "code",
        "colab": {}
      },
      "source": [
        "#Create dataframe with TARGET =  1 for further analysis\n",
        "\n",
        "Target_1_data = df_cleaned[df_cleaned['TARGET'] == 1]\n",
        "\n",
        "#Create dataframe with TARGET =  0 for further analysis\n",
        "\n",
        "Target_0_data = df_cleaned[df_cleaned['TARGET'] == 0]"
      ],
      "execution_count": 0,
      "outputs": []
    },
    {
      "cell_type": "code",
      "metadata": {
        "id": "K-_am7VBMwnV",
        "colab_type": "code",
        "colab": {}
      },
      "source": [
        "Target_1_data.shape"
      ],
      "execution_count": 0,
      "outputs": []
    },
    {
      "cell_type": "code",
      "metadata": {
        "id": "2QKwa_GKMwnY",
        "colab_type": "code",
        "colab": {}
      },
      "source": [
        "Target_0_data.shape"
      ],
      "execution_count": 0,
      "outputs": []
    },
    {
      "cell_type": "code",
      "metadata": {
        "id": "h1WB1tWnMwnb",
        "colab_type": "code",
        "colab": {}
      },
      "source": [
        "Target_1_data.head()"
      ],
      "execution_count": 0,
      "outputs": []
    },
    {
      "cell_type": "markdown",
      "metadata": {
        "id": "HW1vTli9Mwne",
        "colab_type": "text"
      },
      "source": [
        "<a id = 'Correlation'></a>\n",
        "\n",
        "## Correlation Analysis\n",
        "\n",
        "**In this section we will do Correlation analysis to check if correlation between numeric veriables is similar for both TARGET = 0 and TARGET = 1 datasets**\n",
        "\n",
        "**We will analyse any mismatches between correlation**"
      ]
    },
    {
      "cell_type": "code",
      "metadata": {
        "id": "gdO_RIqwMwnf",
        "colab_type": "code",
        "colab": {}
      },
      "source": [
        "corr_0 = Target_0_data.corr()\n",
        "\n",
        "corr_0_select = corr_0.unstack().sort_values().drop_duplicates()\n",
        "corr_0_select = corr_0_select[corr_0_select.notna()]\n",
        "corr_0_select = corr_0_select[corr_0_select != 1]\n",
        "corr_0_sorted = corr_0_select.sort_values(kind=\"quicksort\")\n",
        "corr_0_sorted = corr_0_sorted.to_frame()\n",
        "corr_0_sorted = corr_0_sorted.reset_index()\n",
        "corr_0_sorted.rename(columns={'level_0': 'Var_1', 'level_1': 'Var_2', 0 : 'Corr'}, inplace=True)"
      ],
      "execution_count": 0,
      "outputs": []
    },
    {
      "cell_type": "code",
      "metadata": {
        "id": "gfyxC0yfMwni",
        "colab_type": "code",
        "colab": {}
      },
      "source": [
        "plt.figure(figsize=(24,24))\n",
        "sns.heatmap(corr_0)\n",
        "plt.title('Correlation between variables for Non-Defaulters')\n",
        "plt.show()"
      ],
      "execution_count": 0,
      "outputs": []
    },
    {
      "cell_type": "code",
      "metadata": {
        "id": "cmoqMyOOMwnn",
        "colab_type": "code",
        "colab": {}
      },
      "source": [
        "corr_1 = Target_1_data.corr()\n",
        "\n",
        "corr_1_select = corr_1.unstack().sort_values().drop_duplicates()\n",
        "corr_1_select = corr_1_select[corr_1_select.notna()]\n",
        "corr_1_select = corr_1_select[corr_1_select != 1]\n",
        "corr_1_sorted = corr_1_select.sort_values(kind=\"quicksort\")\n",
        "corr_1_sorted = corr_1_sorted.to_frame()\n",
        "corr_1_sorted = corr_1_sorted.reset_index()\n",
        "corr_1_sorted.rename(columns={'level_0': 'Var_1', 'level_1': 'Var_2', 0 : 'Corr'}, inplace=True)"
      ],
      "execution_count": 0,
      "outputs": []
    },
    {
      "cell_type": "code",
      "metadata": {
        "id": "zq08TovCMwns",
        "colab_type": "code",
        "colab": {}
      },
      "source": [
        "plt.figure(figsize=(24,24))\n",
        "sns.heatmap(corr_0)\n",
        "plt.title('Correlation between variables for Defaulters')\n",
        "plt.show()"
      ],
      "execution_count": 0,
      "outputs": []
    },
    {
      "cell_type": "markdown",
      "metadata": {
        "id": "dQ01coaPMwnw",
        "colab_type": "text"
      },
      "source": [
        "<a id = '+Corr'></a>\n",
        "\n",
        "### Positive correlation"
      ]
    },
    {
      "cell_type": "code",
      "metadata": {
        "id": "CBD9G4CTMwny",
        "colab_type": "code",
        "colab": {}
      },
      "source": [
        "corr_0_sorted.tail(10)"
      ],
      "execution_count": 0,
      "outputs": []
    },
    {
      "cell_type": "code",
      "metadata": {
        "id": "77zwBk1gMwn2",
        "colab_type": "code",
        "colab": {}
      },
      "source": [
        "\n",
        "corr_1_sorted.tail(10)"
      ],
      "execution_count": 0,
      "outputs": []
    },
    {
      "cell_type": "markdown",
      "metadata": {
        "id": "Wr258lWEMwn5",
        "colab_type": "text"
      },
      "source": [
        "### +ve Correlation observation for variables\n",
        "\n",
        "**Top 10 correlations between variables are in the range of 0.861 - 0.998. and both datasets(defaulter and non-defaulter) have similar correlation.**\n",
        "\n",
        "\n",
        "**All the variables with top 10 correlations are matching in both datasets with their correlation varying  within 0.01 scale.**"
      ]
    },
    {
      "cell_type": "markdown",
      "metadata": {
        "id": "CwALcDCFMwn6",
        "colab_type": "text"
      },
      "source": [
        "<a id = '-Corr'></a>\n",
        "\n",
        "### Negative correlation"
      ]
    },
    {
      "cell_type": "code",
      "metadata": {
        "id": "L2oeLAZtMwn-",
        "colab_type": "code",
        "colab": {}
      },
      "source": [
        "corr_0_sorted.head(10)"
      ],
      "execution_count": 0,
      "outputs": []
    },
    {
      "cell_type": "code",
      "metadata": {
        "id": "LwXDBWNoMwn7",
        "colab_type": "code",
        "colab": {}
      },
      "source": [
        "corr_1_sorted.head(10)"
      ],
      "execution_count": 0,
      "outputs": []
    },
    {
      "cell_type": "markdown",
      "metadata": {
        "id": "bTgaT6veMwoB",
        "colab_type": "text"
      },
      "source": [
        "### -ve Correlation observation for variables\n",
        "\n",
        "**Top 10 correlations between variables are in the range of (-0.275) to (-0.999). and both datasets(defaulter and non-defaulter) have similar correlation.**\n",
        "\n",
        "**Below their combinations of variables have higher -ve correlation for defaulter dataset compared to the\n",
        "non-defaulter dataset**\n",
        "\n",
        "\n",
        "  - **DAYS_EMPLOYED\t        &    FLAG_DOCUMENT_3\t            -0.282129**\n",
        "\n",
        "  - **HOUR_APPR_PROCESS_START &\tREGION_RATING_CLIENT_W_CITY\t-0.275582**"
      ]
    },
    {
      "cell_type": "markdown",
      "metadata": {
        "id": "Khc8RZocMwoB",
        "colab_type": "text"
      },
      "source": [
        "<a id = 'SegUni' ></a>\n",
        "\n",
        "## Segmented Univariate analysis"
      ]
    },
    {
      "cell_type": "markdown",
      "metadata": {
        "id": "uTIBrmU9MwoC",
        "colab_type": "text"
      },
      "source": [
        "<a id = 'NAME_FAMILY_STATUS'></a>\n",
        "### Univeriate Analysis base on NAME_FAMILY_STATUS of Target 0 and 1"
      ]
    },
    {
      "cell_type": "code",
      "metadata": {
        "id": "8CagY5TyMwoC",
        "colab_type": "code",
        "colab": {}
      },
      "source": [
        "plt.figure(figsize=(12,5))\n",
        "\n",
        "plt.subplot(1,2,1);\n",
        "Target_0_data.NAME_FAMILY_STATUS.value_counts(normalize =True).plot(kind= 'bar', color= ['g','b','k','r','c','m']);\n",
        "plt.title('Impact of Matrimonial status on Target_0')\n",
        "plt.xticks(rotation = 45)\n",
        "plt.subplot(1,2,2);\n",
        "Target_1_data.NAME_FAMILY_STATUS.value_counts(normalize =True).plot(kind= 'bar', color= ['g','b','k','r','c','m']);\n",
        "plt.title('Impact of Matrimonial status on Target_1')\n",
        "plt.xticks(rotation = 45)\n",
        "plt.show()"
      ],
      "execution_count": 0,
      "outputs": []
    },
    {
      "cell_type": "markdown",
      "metadata": {
        "id": "Vjo6w2aGMwoF",
        "colab_type": "text"
      },
      "source": [
        "**Observation :**\n",
        "  \n",
        "  - **Loan defaults are proportion is less for Married people compare to non-defaulters**\n",
        "  - **But It seems for Single/Civil Married customers, the loan defaulter proportion is little higher.**\n",
        "  "
      ]
    },
    {
      "cell_type": "markdown",
      "metadata": {
        "id": "zDMIPX9mMwoG",
        "colab_type": "text"
      },
      "source": [
        "<a id = 'NAME_HOUSING_TYPE'></a>\n",
        "### Univeriate Analysis base on NAME_HOUSING_TYPE of Target 0 and 1"
      ]
    },
    {
      "cell_type": "code",
      "metadata": {
        "id": "jAFg5Qp0MwoH",
        "colab_type": "code",
        "colab": {}
      },
      "source": [
        "plt.figure(figsize=(12,5))\n",
        "\n",
        "plt.subplot(1,2,1);\n",
        "Target_0_data.NAME_HOUSING_TYPE.value_counts(normalize =True).plot(kind= 'bar', color= ['g','b','k','r','c','m']);\n",
        "plt.title('Housing Type for Target_0')\n",
        "plt.xticks(rotation = 45)\n",
        "plt.subplot(1,2,2);\n",
        "Target_1_data.NAME_HOUSING_TYPE.value_counts(normalize =True).plot(kind= 'bar', color= ['g','b','k','r','c','m']);\n",
        "plt.title('Housing Type for Target_1')\n",
        "plt.xticks(rotation = 45)\n",
        "plt.show()"
      ],
      "execution_count": 0,
      "outputs": []
    },
    {
      "cell_type": "markdown",
      "metadata": {
        "id": "Mb4_ypAHMwoK",
        "colab_type": "text"
      },
      "source": [
        "**Observation :**\n",
        "  \n",
        "  - **Its seems custtomer living with Parents have little more proporation of defaulting compared to non-defaulters**\n",
        "  - **Similarly Municiple and Rented apartment accomodation shows slightly higher proportion towards defaulting**"
      ]
    },
    {
      "cell_type": "markdown",
      "metadata": {
        "id": "xn4UIqgyMwoK",
        "colab_type": "text"
      },
      "source": [
        "<a id = 'NAME_INCOME_TYPE'></a>\n",
        "### Univeriate Analysis base on NAME_INCOME_TYPE of Target 0 and 1"
      ]
    },
    {
      "cell_type": "code",
      "metadata": {
        "id": "pAIqM2kiMwoM",
        "colab_type": "code",
        "colab": {}
      },
      "source": [
        "plt.figure(figsize=(12,5))\n",
        "\n",
        "plt.subplot(1,2,1);\n",
        "Target_0_data.NAME_INCOME_TYPE.value_counts(normalize =True).plot(kind= 'bar', color= ['g','b','k','r','c','m']);\n",
        "plt.title('Income sourse impact on Target_0')\n",
        "plt.xticks(rotation = 45)\n",
        "plt.subplot(1,2,2);\n",
        "Target_1_data.NAME_INCOME_TYPE.value_counts(normalize =True).plot(kind= 'bar', color= ['g','b','k','r','c','m']); \n",
        "plt.title('Income sourse impact on Target_1')\n",
        "plt.xticks(rotation = 45)\n",
        "plt.show()"
      ],
      "execution_count": 0,
      "outputs": []
    },
    {
      "cell_type": "markdown",
      "metadata": {
        "id": "FcZDOGKtMwoO",
        "colab_type": "text"
      },
      "source": [
        "**Observation :**\n",
        "  \n",
        "  - **Its seems  customers who are currently working have higher proportion of defaulters**\n",
        "  - **'Pensioners seems to be pay back loan , so their proportion is less on defaulters**\n",
        "  - **Similarly State servers are comparitivaly show less tendency towards defaulting**"
      ]
    },
    {
      "cell_type": "markdown",
      "metadata": {
        "id": "DeGv99wFMwoP",
        "colab_type": "text"
      },
      "source": [
        "<a id = 'OCCUPATION_TYPE'></a>\n",
        "### Univeriate Analysis base on OCCUPATION_TYPE of Target 0 and 1"
      ]
    },
    {
      "cell_type": "code",
      "metadata": {
        "id": "APWs8HKBMwoQ",
        "colab_type": "code",
        "colab": {}
      },
      "source": [
        "plt.figure(figsize=(12,5))\n",
        "\n",
        "plt.subplot(1,2,1);\n",
        "Target_0_data.OCCUPATION_TYPE.value_counts(normalize =True).plot(kind= 'bar'); \n",
        "plt.title('Impact of Occupation on Target_0')\n",
        "plt.subplot(1,2,2);\n",
        "Target_1_data.OCCUPATION_TYPE.value_counts(normalize =True).plot(kind= 'bar');\n",
        "plt.title('Impact of Occupation on Target_1')\n",
        "plt.show()"
      ],
      "execution_count": 0,
      "outputs": []
    },
    {
      "cell_type": "markdown",
      "metadata": {
        "id": "0BhElQWuMwoS",
        "colab_type": "text"
      },
      "source": [
        "**Observation :**\n",
        "  \n",
        "  - **Its seems customers with profession as Laborer have higher proportion of defaulters**\n",
        "  - **Another observation is as IT/HR staff have lower propoartion of defaulting**\n"
      ]
    },
    {
      "cell_type": "markdown",
      "metadata": {
        "id": "66UvmvaXMwoT",
        "colab_type": "text"
      },
      "source": [
        "<a id = 'EDUCATION'></a>\n",
        "### Univeriate Analysis base on EDUCATION of Target 0 and 1"
      ]
    },
    {
      "cell_type": "code",
      "metadata": {
        "id": "N2wQ2bb9MwoT",
        "colab_type": "code",
        "colab": {}
      },
      "source": [
        "plt.figure(figsize=(12,5))\n",
        "\n",
        "plt.subplot(1,2,1);\n",
        "Target_0_data.NAME_EDUCATION_TYPE.value_counts(normalize =True).plot(kind= 'bar', color= ['g','b','k','r','c']);\n",
        "plt.title('Impact of Education on Target_0')\n",
        "plt.xticks(rotation = 45)\n",
        "plt.subplot(1,2,2);\n",
        "Target_1_data.NAME_EDUCATION_TYPE.value_counts(normalize =True).plot(kind= 'bar', color= ['g','b','k','r','c']); \n",
        "plt.title('Impact of Education on Target_1')\n",
        "plt.xticks(rotation = 45)\n",
        "plt.show()"
      ],
      "execution_count": 0,
      "outputs": []
    },
    {
      "cell_type": "markdown",
      "metadata": {
        "id": "YPbSFxjWMwoX",
        "colab_type": "text"
      },
      "source": [
        "**Observation :**\n",
        "  \n",
        "  - **Customers with Secondary education have hight proportion of defaulting if compared to non-defaulters**\n",
        "\n"
      ]
    },
    {
      "cell_type": "markdown",
      "metadata": {
        "id": "K0nJd5RTMwoX",
        "colab_type": "text"
      },
      "source": [
        "<a id = 'Uni'></a>\n",
        "\n",
        "## Univerate Analysis"
      ]
    },
    {
      "cell_type": "markdown",
      "metadata": {
        "id": "Ej3N7pPzMwoY",
        "colab_type": "text"
      },
      "source": [
        "<a id = 'Uni1'></a>\n",
        "### Univerate Analysis -  INCOME_TOTAL for Target 0 and Target 1"
      ]
    },
    {
      "cell_type": "code",
      "metadata": {
        "id": "PwJ6sHtMMwoZ",
        "colab_type": "code",
        "colab": {}
      },
      "source": [
        "plt.figure(figsize=(12,5))\n",
        "plt.subplot(121)\n",
        "sns.distplot(Target_0_data.AMT_INCOME_TOTAL.dropna(), kde=False, bins = 10)\n",
        "plt.title(\"Distribution of INCOME_TOTAL of Target 0\",color=\"g\")\n",
        "plt.xticks(rotation = 90)\n",
        "plt.subplot(122)\n",
        "sns.distplot(Target_1_data.AMT_INCOME_TOTAL.dropna(), kde=False, bins = 10)\n",
        "plt.title(\"Distribution of INCOME_TOTAL of Target 1\",color=\"g\")\n",
        "plt.xticks(rotation = 90)\n",
        "\n",
        "plt.show()"
      ],
      "execution_count": 0,
      "outputs": []
    },
    {
      "cell_type": "code",
      "metadata": {
        "id": "pXzgvmkeMwoc",
        "colab_type": "code",
        "colab": {}
      },
      "source": [
        "plt.figure(figsize=(12,5))\n",
        "plt.subplot(121)\n",
        "sns.boxplot(Target_0_data.AMT_INCOME_TOTAL)\n",
        "plt.subplot(122)\n",
        "sns.boxplot(Target_1_data.AMT_INCOME_TOTAL)\n",
        "plt.show()"
      ],
      "execution_count": 0,
      "outputs": []
    },
    {
      "cell_type": "markdown",
      "metadata": {
        "id": "t8MY2zSLMwoe",
        "colab_type": "text"
      },
      "source": [
        "**Observation :**\n",
        "  \n",
        "  - **The income of the customers seems to have similar distribution for both defaulters and non-defaulters**\n",
        "  - **The Average income seems to be arond 140K for both segments**\n",
        "\n"
      ]
    },
    {
      "cell_type": "markdown",
      "metadata": {
        "id": "jwbwDeIPMwof",
        "colab_type": "text"
      },
      "source": [
        "<a id = 'Uni2'></a>\n",
        "### Univerate Analysis - Annuity for Target 0 and Target 1"
      ]
    },
    {
      "cell_type": "code",
      "metadata": {
        "id": "yO0ZfFfJMwof",
        "colab_type": "code",
        "colab": {}
      },
      "source": [
        "fig = plt.figure(figsize=(18,6))\n",
        "plt.subplot(121)\n",
        "sns.distplot(Target_0_data.AMT_ANNUITY.dropna(), kde=False, bins = 10)\n",
        "plt.title(\"Distribution of ANNUITY of Target 0\",color=\"r\")\n",
        "\n",
        "plt.subplot(122)\n",
        "sns.distplot(Target_1_data.AMT_ANNUITY.dropna(), kde=False, bins = 10)\n",
        "plt.title(\"Distribution of ANNUITY of Target 1\",color=\"r\")\n",
        "plt.show()"
      ],
      "execution_count": 0,
      "outputs": []
    },
    {
      "cell_type": "code",
      "metadata": {
        "id": "faFynEP3Mwoi",
        "colab_type": "code",
        "colab": {}
      },
      "source": [
        "plt.figure(figsize=(12,5))\n",
        "plt.subplot(121)\n",
        "sns.boxplot(Target_0_data.AMT_ANNUITY)\n",
        "plt.subplot(122)\n",
        "sns.boxplot(Target_1_data.AMT_ANNUITY)\n",
        "plt.show()"
      ],
      "execution_count": 0,
      "outputs": []
    },
    {
      "cell_type": "markdown",
      "metadata": {
        "id": "4ocNU4R7Mwok",
        "colab_type": "text"
      },
      "source": [
        "**Observation :**\n",
        "  \n",
        "\n",
        "  - **The defaulters seems to have more outliers compared to non-defaulters**\n",
        "  - **The average annuity is similar for both defaulters and non defaulters around 30K**\n"
      ]
    },
    {
      "cell_type": "markdown",
      "metadata": {
        "id": "ABHcgG2uMwok",
        "colab_type": "text"
      },
      "source": [
        "<a id = 'Uni3'></a>\n",
        "### Univerate Analysis - CREDIT for Target 0 and Target 1"
      ]
    },
    {
      "cell_type": "code",
      "metadata": {
        "id": "2TqwzXhzMwol",
        "colab_type": "code",
        "colab": {}
      },
      "source": [
        "fig = plt.figure(figsize=(18,6))\n",
        "plt.subplot(121)\n",
        "sns.distplot(Target_0_data.AMT_CREDIT.dropna(), kde=False, bins = 10)\n",
        "plt.title(\"Distribution of CREDIT of Target 0\",color=\"g\")\n",
        "\n",
        "plt.subplot(122)\n",
        "sns.distplot(Target_1_data.AMT_CREDIT.dropna(), kde=False, bins = 10)\n",
        "plt.title(\"Distribution of CREDIT of Target 1\",color=\"g\")\n",
        "plt.show()"
      ],
      "execution_count": 0,
      "outputs": []
    },
    {
      "cell_type": "code",
      "metadata": {
        "id": "GTlIRMUfMwon",
        "colab_type": "code",
        "colab": {}
      },
      "source": [
        "plt.figure(figsize=(12,5))\n",
        "plt.subplot(121)\n",
        "sns.boxplot(Target_0_data.AMT_CREDIT)\n",
        "plt.xticks(rotation = 45)\n",
        "plt.subplot(122)\n",
        "sns.boxplot(Target_1_data.AMT_CREDIT)\n",
        "plt.xticks(rotation = 45)\n",
        "plt.show()"
      ],
      "execution_count": 0,
      "outputs": []
    },
    {
      "cell_type": "markdown",
      "metadata": {
        "id": "BRbhlWHVMwos",
        "colab_type": "text"
      },
      "source": [
        "**Observation :**\n",
        "  \n",
        "\n",
        "  - **The defaulters seems to have more outliers compared to non-defaulters**\n",
        "  - **The higher fence value for defaulters is around 1.2 M compared to non-defaulters which is around 1.5M**\n",
        "  - **Large no of defaulters have credit of between 200K to 600K**\n"
      ]
    },
    {
      "cell_type": "markdown",
      "metadata": {
        "id": "Nqej_RAgMwot",
        "colab_type": "text"
      },
      "source": [
        "<a id = 'Uni4'></a>\n",
        "### Univerate Analysis - REGION_POPULATION for Target 0 and Target 1"
      ]
    },
    {
      "cell_type": "code",
      "metadata": {
        "id": "GDGRgQQ7Mwo7",
        "colab_type": "code",
        "colab": {}
      },
      "source": [
        "fig = plt.figure(figsize=(18,6))\n",
        "plt.subplot(121)\n",
        "sns.distplot(Target_0_data.REGION_POPULATION_RELATIVE.dropna(), kde=False, bins = 10)\n",
        "plt.title(\"Distribution of REGION_POPULA_RELATIVE of Target 0\",color=\"g\")\n",
        "\n",
        "plt.subplot(122)\n",
        "sns.distplot(Target_1_data.REGION_POPULATION_RELATIVE.dropna(), kde=False, bins = 10)\n",
        "plt.title(\"Distribution of REGION_POPULA_RELATIVE of Target 1\",color=\"g\")\n",
        "plt.show()\n"
      ],
      "execution_count": 0,
      "outputs": []
    },
    {
      "cell_type": "markdown",
      "metadata": {
        "id": "2QzgLvY-MwpE",
        "colab_type": "text"
      },
      "source": [
        "**Observation :**\n",
        "  \n",
        "   - **It seems majority of defaulter are from lower populated area., we can see that proportions for 0.05 and 0.07 are lower than that of non-defaulters**"
      ]
    },
    {
      "cell_type": "markdown",
      "metadata": {
        "id": "lamk1KrwMwpF",
        "colab_type": "text"
      },
      "source": [
        "<a id = 'Uni5'></a>\n",
        "### Univerate Analysis - DAYS_BIRTH for Target 0 and Target 1"
      ]
    },
    {
      "cell_type": "code",
      "metadata": {
        "id": "eBnr4oDDMwpG",
        "colab_type": "code",
        "colab": {}
      },
      "source": [
        "fig = plt.figure(figsize=(18,6))\n",
        "plt.subplot(121)\n",
        "sns.distplot(Target_0_data.DAYS_BIRTH.dropna(), kde=False, bins = 90)\n",
        "plt.title(\"Distribution of DAYS_BIRTH of Target 0\",color=\"g\")\n",
        "\n",
        "plt.subplot(122)\n",
        "sns.distplot(Target_1_data.DAYS_BIRTH.dropna(), kde=False, bins = 90)\n",
        "plt.title(\"Distribution of DAYS_BIRTH of Target 1\",color=\"g\")\n",
        "plt.show()"
      ],
      "execution_count": 0,
      "outputs": []
    },
    {
      "cell_type": "code",
      "metadata": {
        "id": "-bsi_YeOMwpO",
        "colab_type": "code",
        "colab": {}
      },
      "source": [
        "plt.figure(figsize=(12,5))\n",
        "plt.subplot(121)\n",
        "sns.boxplot(Target_0_data.DAYS_BIRTH)\n",
        "plt.xticks(rotation = 45)\n",
        "plt.subplot(122)\n",
        "sns.boxplot(Target_1_data.DAYS_BIRTH)\n",
        "plt.xticks(rotation = 45)\n",
        "plt.show()"
      ],
      "execution_count": 0,
      "outputs": []
    },
    {
      "cell_type": "markdown",
      "metadata": {
        "id": "D38h4s_8MwpT",
        "colab_type": "text"
      },
      "source": [
        "**Observation :**\n",
        "  \n",
        "   - **The median age for defaulters are around 14000 days older which would be around 40 Years**\n",
        "   - **It looks like as the age increases proportion of defaulters decreases**\n",
        "   - **The younger customers seems to have higher proportion of defaulters**"
      ]
    },
    {
      "cell_type": "markdown",
      "metadata": {
        "id": "Ke5Fh7UVMwpV",
        "colab_type": "text"
      },
      "source": [
        "<a id = 'Bivariate'></a>\n",
        "\n",
        "## Bivariate Analysis\n",
        "\n",
        "**In this section we will do bivariate analysis to find correaltion between 2 variables**"
      ]
    },
    {
      "cell_type": "markdown",
      "metadata": {
        "id": "2cNP36qXMwpV",
        "colab_type": "text"
      },
      "source": [
        "<a id = 'BA1'></a>\n",
        "## Bivariate analysis for DAYS_BIRTH and DAYS_EMPLOYED"
      ]
    },
    {
      "cell_type": "code",
      "metadata": {
        "id": "RuezC82RMwpX",
        "colab_type": "code",
        "colab": {}
      },
      "source": [
        "sns.scatterplot( x = 'DAYS_BIRTH',y = 'DAYS_EMPLOYED',data = Target_0_data[Target_0_data['DAYS_EMPLOYED']< 300000],\n",
        "               label = 'Target = 0')\n",
        "sns.scatterplot( x = 'DAYS_BIRTH',y = 'DAYS_EMPLOYED',data = Target_1_data[Target_1_data['DAYS_EMPLOYED']< 300000],\n",
        "               label = 'Target = 1')\n",
        "plt.show()"
      ],
      "execution_count": 0,
      "outputs": []
    },
    {
      "cell_type": "code",
      "metadata": {
        "id": "m-K4jIn5Mwpf",
        "colab_type": "code",
        "colab": {}
      },
      "source": [
        "corr_0_non_retired = Target_0_data[Target_0_data['DAYS_EMPLOYED']< 300000][['DAYS_EMPLOYED','AMT_CREDIT']].corr()['AMT_CREDIT'][0]\n",
        "\n",
        "corr_0_all_data = Target_0_data[['DAYS_EMPLOYED','AMT_CREDIT']].corr()['AMT_CREDIT'][0]\n",
        "\n",
        "\n",
        "\n",
        "corr_1_non_retired = Target_1_data[Target_1_data['DAYS_EMPLOYED']< 300000][['DAYS_EMPLOYED','AMT_CREDIT']].corr()['AMT_CREDIT'][0]\n",
        "corr_1_all_data = Target_1_data[['DAYS_EMPLOYED','AMT_CREDIT']].corr()['AMT_CREDIT'][0]\n",
        "\n",
        "print(color.BOLD + color.BLUE + 'The correlation between employement and loan amount for non defaulters is  {0} , but if we considered data for only non-retired applicants correlation is: {1}'.format(round(corr_0_all_data,4),round(corr_0_non_retired,4) )\n",
        "      + color.END)\n",
        "\n",
        "\n",
        "print(color.BOLD + color.BLUE + 'The correlation between employement and loan amount for loan-defaulters is  {0} , but if we considered data for only non-retired applicants correlation is: {1}'.format(round(corr_1_all_data,4),round(corr_1_non_retired,4) )\n",
        "      + color.END)\n",
        "\n"
      ],
      "execution_count": 0,
      "outputs": []
    },
    {
      "cell_type": "markdown",
      "metadata": {
        "id": "dn0zUYp_Mwph",
        "colab_type": "text"
      },
      "source": [
        "### Obervation:\n",
        "\n",
        "**for This analysis, I have considered data for non-retired applicants as well as all data**\n",
        "\n",
        "for Payment defaulters (TARGET = 1)\n",
        "As age increases and days employed increases, the loan default shows reductions.\n",
        "\n",
        "So It might be case that younger people will short employment history tend to default more.\n",
        "\n",
        "Also for loan defaulters, their is correclation between employement period and loan amount is around 0.1124 which is significantly more than non-defaulters. (This observation is only for non-retired applicants)"
      ]
    },
    {
      "cell_type": "markdown",
      "metadata": {
        "id": "f9eTwpn0Mwpi",
        "colab_type": "text"
      },
      "source": [
        "<a id = 'BA2'></a>\n",
        "## Bivariate analysis for AMT_CREDIT and DAYS_EMPLOYED"
      ]
    },
    {
      "cell_type": "code",
      "metadata": {
        "id": "QhU6werDMwpi",
        "colab_type": "code",
        "colab": {}
      },
      "source": [
        "sns.scatterplot( x = 'AMT_CREDIT',y = 'DAYS_EMPLOYED',data = Target_0_data[Target_0_data['DAYS_EMPLOYED']< 300000],\n",
        "               label = 'Target = 0')\n",
        "sns.scatterplot( x = 'AMT_CREDIT',y = 'DAYS_EMPLOYED',data = Target_1_data[Target_1_data['DAYS_EMPLOYED']< 300000],\n",
        "               label = 'Target = 1')\n",
        "plt.show()\n",
        "\n",
        "\n"
      ],
      "execution_count": 0,
      "outputs": []
    },
    {
      "cell_type": "markdown",
      "metadata": {
        "id": "GuX85VHYMwpl",
        "colab_type": "text"
      },
      "source": [
        "### Obervation:\n",
        "\n",
        "**for This analysis, I have considered data for non-retired applicants**\n",
        "\n",
        "for Payment defaulters (TARGET = 1)\n",
        "It seems that the credit amount of loan is low at higher experience level.\n",
        "Also the loan default is concentrated below 1.5M Loan amount credit and below 10000 days (around 30 Years job experince)\n",
        "\n",
        "if we concentrate on non retired appicants, the correlation between "
      ]
    },
    {
      "cell_type": "markdown",
      "metadata": {
        "id": "dBMl465OMwpl",
        "colab_type": "text"
      },
      "source": [
        "<a id = 'BA3'></a>\n",
        "## Bivariate analysis for AMT_CREDIT and AMT_GOODS_PRICE"
      ]
    },
    {
      "cell_type": "code",
      "metadata": {
        "id": "yegDvDbqMwpm",
        "colab_type": "code",
        "colab": {}
      },
      "source": [
        "sns.scatterplot( x = 'AMT_GOODS_PRICE',y = 'AMT_CREDIT',data = Target_0_data,label = 'Target = 0')\n",
        "sns.scatterplot( x = 'AMT_GOODS_PRICE',y = 'AMT_CREDIT',data = Target_1_data,label = 'Target = 1')\n",
        "plt.show()\n",
        "\n",
        "corr_0 = Target_0_data[['AMT_GOODS_PRICE','AMT_CREDIT']].corr()['AMT_CREDIT'][0]\n",
        "corr_1 = Target_1_data[['AMT_GOODS_PRICE','AMT_CREDIT']].corr()['AMT_CREDIT'][0]\n",
        "\n",
        "print(color.BOLD + color.BLUE + 'The correlation between property price and loan amount for non defaulters is  {0} \\n but for defaulters it is: {1}'.format(round(corr_0,4),round(corr_1,4) )+ color.END)\n"
      ],
      "execution_count": 0,
      "outputs": []
    },
    {
      "cell_type": "markdown",
      "metadata": {
        "id": "7ZFp4ll_MwqG",
        "colab_type": "text"
      },
      "source": [
        "### Obervation:\n",
        "\n",
        "credit amount and goods price are highly correlated variables for both defaulters and non-defaulters.\n",
        "\n",
        "So as the home price increases the loan amount also increases which is logical"
      ]
    },
    {
      "cell_type": "markdown",
      "metadata": {
        "id": "QbOGiLU9MwqH",
        "colab_type": "text"
      },
      "source": [
        "<a id = 'BA4'></a>\n",
        "## Bivariate analysis for AMT_CREDIT and AMT_ANNUITY"
      ]
    },
    {
      "cell_type": "code",
      "metadata": {
        "scrolled": true,
        "id": "-rE2fdFUMwqJ",
        "colab_type": "code",
        "colab": {}
      },
      "source": [
        "sns.scatterplot( x = 'AMT_ANNUITY',y = 'AMT_CREDIT',data = Target_0_data, label = 'Target = 0')\n",
        "sns.scatterplot( x = 'AMT_ANNUITY',y = 'AMT_CREDIT',data = Target_1_data, label = 'Target = 1')\n",
        "plt.show()\n",
        "\n",
        "corr_0 = Target_0_data[['AMT_ANNUITY','AMT_CREDIT']].corr()['AMT_CREDIT'][0]\n",
        "corr_1 = Target_1_data[['AMT_ANNUITY','AMT_CREDIT']].corr()['AMT_CREDIT'][0]\n",
        "\n",
        "print(color.BOLD + color.BLUE + 'The correlation between AMT_ANNUITY (EMI) and loan amount for non defaulters is  {0} \\n but for defaulters it is: {1}'.format(round(corr_0,4),round(corr_1,4) )+ color.END)\n"
      ],
      "execution_count": 0,
      "outputs": []
    },
    {
      "cell_type": "markdown",
      "metadata": {
        "id": "87N2Kcx2MwqP",
        "colab_type": "text"
      },
      "source": [
        "### Obervation:\n",
        "\n",
        "credit amount and AMT_ANNUITY (EMI) are highly correlated variables for both defaulters and non-defaulters.\n",
        "\n",
        "So as the home price increases the EMI amount also increases which is logical"
      ]
    },
    {
      "cell_type": "markdown",
      "metadata": {
        "id": "uXf4ervgke6e",
        "colab_type": "text"
      },
      "source": [
        "<a id = 'BA5'></a>\n",
        "## Bivariate analysis for AMT_GOODS_PRICE and AMT_ANNUITY"
      ]
    },
    {
      "cell_type": "code",
      "metadata": {
        "id": "WmsZnRjSi5Ap",
        "colab_type": "code",
        "colab": {}
      },
      "source": [
        "sns.scatterplot( x = 'AMT_ANNUITY',y = 'AMT_GOODS_PRICE',data = Target_0_data, label = 'Target = 0')\n",
        "sns.scatterplot( x = 'AMT_ANNUITY',y = 'AMT_GOODS_PRICE',data = Target_1_data, label = 'Target = 1')\n",
        "plt.show()\n",
        "\n",
        "corr_0 = Target_0_data[['AMT_ANNUITY','AMT_GOODS_PRICE']].corr()['AMT_GOODS_PRICE'][0]\n",
        "corr_1 = Target_1_data[['AMT_ANNUITY','AMT_GOODS_PRICE']].corr()['AMT_GOODS_PRICE'][0]\n",
        "\n",
        "print(color.BOLD + color.BLUE + 'The correlation between AMT_ANNUITY (EMI) and goods price for non defaulters is  {0} \\n but for defaulters it is: {1}'.format(round(corr_0,4),round(corr_1,4) )+ color.END)\n"
      ],
      "execution_count": 0,
      "outputs": []
    },
    {
      "cell_type": "markdown",
      "metadata": {
        "id": "pcjkvgy6kVY0",
        "colab_type": "text"
      },
      "source": [
        "### Obervation:\n",
        "\n",
        "AMT_ANNUITY (EMI) and goods price are highly correlated variables for both defaulters and non-defaulters.\n",
        "\n",
        "So as the home price increases the EMI amount also increases which is logical"
      ]
    },
    {
      "cell_type": "markdown",
      "metadata": {
        "id": "oZuEwdarMwqP",
        "colab_type": "text"
      },
      "source": [
        "<a id = 'PrevApp'></a>\n",
        "## Analyse Previous application data"
      ]
    },
    {
      "cell_type": "markdown",
      "metadata": {
        "id": "fc14GP0HMwqU",
        "colab_type": "text"
      },
      "source": [
        "<a id = 'dlbc'></a>\n",
        "### Data load and basic check"
      ]
    },
    {
      "cell_type": "code",
      "metadata": {
        "id": "MbhBbD6GMwqV",
        "colab_type": "code",
        "colab": {}
      },
      "source": [
        "df_pa = pd.read_csv(\"previous_application.csv\")\n",
        "\n",
        "#df_pa = pd.read_csv(\"/content/drive/My Drive/Colab Notebooks/data/previous_application.csv\")"
      ],
      "execution_count": 0,
      "outputs": []
    },
    {
      "cell_type": "code",
      "metadata": {
        "id": "YR3LXrzSMwqa",
        "colab_type": "code",
        "colab": {}
      },
      "source": [
        "df_pa.shape"
      ],
      "execution_count": 0,
      "outputs": []
    },
    {
      "cell_type": "code",
      "metadata": {
        "id": "Lzf0q7j2Mwqe",
        "colab_type": "code",
        "colab": {}
      },
      "source": [
        "df_pa.head()"
      ],
      "execution_count": 0,
      "outputs": []
    },
    {
      "cell_type": "code",
      "metadata": {
        "id": "NmSIxhyzMwqn",
        "colab_type": "code",
        "colab": {}
      },
      "source": [
        "#Check missing values in the dataset\n",
        "100*df_pa.isnull().sum()/df_pa.shape[0]"
      ],
      "execution_count": 0,
      "outputs": []
    },
    {
      "cell_type": "code",
      "metadata": {
        "id": "ayKVMMjkMwq4",
        "colab_type": "code",
        "colab": {}
      },
      "source": [
        "#Delete the columns with more than 50% data missing\n",
        "\n",
        "df_pa = df_pa.loc[:,(100*df_pa.isnull().sum()/df_pa.shape[0]).sort_values(ascending = False) < 50]"
      ],
      "execution_count": 0,
      "outputs": []
    },
    {
      "cell_type": "markdown",
      "metadata": {
        "id": "JFGOM6kkMwrA",
        "colab_type": "text"
      },
      "source": [
        "### Inspect Datatypes of Variables"
      ]
    },
    {
      "cell_type": "code",
      "metadata": {
        "id": "Zp4NclssMwrB",
        "colab_type": "code",
        "colab": {}
      },
      "source": [
        "#check all dtype counts\n",
        "df_pa.dtypes.value_counts()"
      ],
      "execution_count": 0,
      "outputs": []
    },
    {
      "cell_type": "markdown",
      "metadata": {
        "id": "RwyGE-vpMwrK",
        "colab_type": "text"
      },
      "source": [
        "### Inspect columns with object dtype"
      ]
    },
    {
      "cell_type": "code",
      "metadata": {
        "id": "4BK-TKc4MwrL",
        "colab_type": "code",
        "colab": {}
      },
      "source": [
        "#print columns for object dtype\n",
        "df_pa.select_dtypes('object').columns"
      ],
      "execution_count": 0,
      "outputs": []
    },
    {
      "cell_type": "code",
      "metadata": {
        "id": "Kp6qa1z-MwrN",
        "colab_type": "code",
        "colab": {}
      },
      "source": [
        "#print the dtype = object records so that we can have quick look at data to check if any data issues\n",
        "df_pa[df_pa.select_dtypes('object').columns].head()"
      ],
      "execution_count": 0,
      "outputs": []
    },
    {
      "cell_type": "markdown",
      "metadata": {
        "id": "DWe9Jzq1MwrT",
        "colab_type": "text"
      },
      "source": [
        "**<span style=\"color:blue\">\n",
        "    As dtype = object columns are categorical variables, they do not need any dtype change\n",
        "    </span>**"
      ]
    },
    {
      "cell_type": "markdown",
      "metadata": {
        "id": "10LXASdmMwrZ",
        "colab_type": "text"
      },
      "source": [
        "### Inspect columns with int64 dtype"
      ]
    },
    {
      "cell_type": "code",
      "metadata": {
        "id": "EJuKJw7iMwra",
        "colab_type": "code",
        "colab": {}
      },
      "source": [
        "#print columns for int64 dtype\n",
        "df_pa.select_dtypes('int64').columns"
      ],
      "execution_count": 0,
      "outputs": []
    },
    {
      "cell_type": "code",
      "metadata": {
        "id": "SdFh0aIXMwrf",
        "colab_type": "code",
        "colab": {}
      },
      "source": [
        "#print the dtype = int64 records so that we can have quick look at data to check if any data issues\n",
        "df_pa[df_pa.select_dtypes('int64').columns].head()"
      ],
      "execution_count": 0,
      "outputs": []
    },
    {
      "cell_type": "markdown",
      "metadata": {
        "id": "n3tJtQo4Mwrh",
        "colab_type": "text"
      },
      "source": [
        "<a id = 'Fix_1'></a>\n",
        "**<span style=\"color:blue\">\n",
        "    As DAYS_DECISION is descrete values. \n",
        "    we can change them to +values as -ve values do not make any sense and can affect future analysis\n",
        "    </span>**"
      ]
    },
    {
      "cell_type": "code",
      "metadata": {
        "id": "z1tgRpzWMwri",
        "colab_type": "code",
        "colab": {}
      },
      "source": [
        "#As DAYS_DECISION is descrete variable, \n",
        "#we can change them to +values as -ve values do not make any sense\n",
        "\n",
        "no_of_rec = df_pa[df_pa['DAYS_DECISION'] >= 0].shape[0]\n",
        "print(color.BOLD + color.BLUE + 'Total no of records with + value for DAYS_DECISION  : {0}'.format(no_of_rec ) + color.END)\n",
        "df_pa['DAYS_DECISION']  = np.abs(df_pa['DAYS_DECISION'])\n",
        "\n",
        "\n",
        "\n",
        "print(color.BOLD + color.BLUE + 'Changed columns DAYS_DECISION values from -ve to absolute' + color.END)"
      ],
      "execution_count": 0,
      "outputs": []
    },
    {
      "cell_type": "markdown",
      "metadata": {
        "id": "g29mYukIMwrj",
        "colab_type": "text"
      },
      "source": [
        "### Inspect columns with float64 dtype"
      ]
    },
    {
      "cell_type": "code",
      "metadata": {
        "id": "2p8i6w-OMwrk",
        "colab_type": "code",
        "colab": {}
      },
      "source": [
        "#print columns for float64 dtype\n",
        "df_pa.select_dtypes('float64').columns"
      ],
      "execution_count": 0,
      "outputs": []
    },
    {
      "cell_type": "code",
      "metadata": {
        "id": "0h6-IUv6Mwrm",
        "colab_type": "code",
        "colab": {}
      },
      "source": [
        "#print the dtype = float64 records so that we can have quick look at data to check if any data issues\n",
        "df_pa[df_pa.select_dtypes('float64').columns].head()"
      ],
      "execution_count": 0,
      "outputs": []
    },
    {
      "cell_type": "code",
      "metadata": {
        "id": "aPzYDmwKMwru",
        "colab_type": "code",
        "colab": {}
      },
      "source": [
        "#Step 1: change values from negative to absolute\n",
        "\n",
        "df_pa['DAYS_FIRST_DUE']  = np.abs(df_pa['DAYS_FIRST_DUE'])\n",
        "df_pa['DAYS_LAST_DUE']  = np.abs(df_pa['DAYS_LAST_DUE'])\n",
        "df_pa['DAYS_TERMINATION']  = np.abs(df_pa['DAYS_TERMINATION'])\n",
        "df_pa['DAYS_FIRST_DRAWING']  = np.abs(df_pa['DAYS_FIRST_DRAWING'])\n",
        "\n",
        "print(color.BOLD + color.BLUE + 'Changed columns DAYS_FIRST_DUE, DAYS_LAST_DUE & DAYS_TERMINATION, DAYS_FIRST_DRAWING dataype to int as well as values from -ve to absolute' + color.END)\n"
      ],
      "execution_count": 0,
      "outputs": []
    },
    {
      "cell_type": "code",
      "metadata": {
        "id": "VOy2fxQtMwrz",
        "colab_type": "code",
        "colab": {}
      },
      "source": [
        "df_pa.replace(365243,np.nan, inplace = True)"
      ],
      "execution_count": 0,
      "outputs": []
    },
    {
      "cell_type": "markdown",
      "metadata": {
        "id": "WtSchOWGMwr0",
        "colab_type": "text"
      },
      "source": [
        "<a id = 'cmdf'></a>\n",
        "### Creation of merged dataframes "
      ]
    },
    {
      "cell_type": "code",
      "metadata": {
        "id": "Co1S3EkNMwr1",
        "colab_type": "code",
        "colab": {}
      },
      "source": [
        "cmb_Tar_0 = pd.merge(Target_0_data, df_pa, how = 'inner', on = 'SK_ID_CURR')"
      ],
      "execution_count": 0,
      "outputs": []
    },
    {
      "cell_type": "code",
      "metadata": {
        "id": "rPLy4Md1Mwr3",
        "colab_type": "code",
        "colab": {}
      },
      "source": [
        "cmb_Tar_1 = pd.merge(Target_1_data, df_pa, how = 'inner', on = 'SK_ID_CURR')"
      ],
      "execution_count": 0,
      "outputs": []
    },
    {
      "cell_type": "markdown",
      "metadata": {
        "id": "BD1Rin1uMwr9",
        "colab_type": "text"
      },
      "source": [
        "<a id = 'pasua'></a>\n",
        "### Segmented Univariate Analysis"
      ]
    },
    {
      "cell_type": "code",
      "metadata": {
        "id": "XXlKKRN6Mwr-",
        "colab_type": "code",
        "colab": {}
      },
      "source": [
        "fig, (ax_5, ax_6) = plt.subplots(1,2,figsize=(12,5)) \n",
        "\n",
        "sns.countplot(cmb_Tar_0['NAME_CONTRACT_STATUS'],ax = ax_5)\n",
        "for p_5 in ax_5.patches:\n",
        "    ax_5.text(p_5.get_x()+.3, p_5.get_height()+5, str(int(p_5.get_height())), fontsize=10,color='green',ha= \"center\")\n",
        "ax_5.set_title(\"Previous contract status for Non-Defaulters\",fontsize= 12, color = 'darkcyan')\n",
        "for tick in ax_5.get_xticklabels():\n",
        "        tick.set_rotation(45)  \n",
        "\n",
        "\n",
        "sns.countplot(cmb_Tar_1['NAME_CONTRACT_STATUS'],ax = ax_6)\n",
        "for p_6 in ax_6.patches:\n",
        "    ax_6.text(p_6.get_x()+.3, p_6.get_height()+5,str(int(p_6.get_height())), fontsize=10,color='green',ha= \"center\")\n",
        "ax_6.set_title(\"Previous contract status for Defaulters\",fontsize= 12, color = 'darkcyan')\n",
        "    \n",
        " \n",
        "for tick in ax_6.get_xticklabels():\n",
        "        tick.set_rotation(45)  \n",
        "plt.tight_layout()\n",
        "\n",
        "nd_ref = round(100*cmb_Tar_0[cmb_Tar_0['NAME_CONTRACT_STATUS'] == 'Refused'].shape[0]/cmb_Tar_0.shape[0],2)\n",
        "def_ref = round(100*cmb_Tar_1[cmb_Tar_1['NAME_CONTRACT_STATUS'] == 'Refused'].shape[0]/cmb_Tar_1.shape[0],2)\n",
        "\n",
        "print(color.BOLD + color.BLUE + 'The previously refused % of applications for non-defaulters is: {0}'.format(nd_ref) + color.END)\n",
        "\n",
        "\n",
        "print(color.BOLD + color.BLUE + 'The previously refused % of applications for defaulters is:   {0}'.format(def_ref) + color.END)\n"
      ],
      "execution_count": 0,
      "outputs": []
    },
    {
      "cell_type": "markdown",
      "metadata": {
        "id": "12S9kdxqMwsB",
        "colab_type": "text"
      },
      "source": [
        "### Observation:\n",
        "\n",
        "Its seems that for TARGET = 1 clients the previously Refused applications have comparatibly\n",
        "\n",
        "  - **The previously refused % of applications for non-defaulters is: 16.75**\n",
        "  - **The previously refused % of applications for defaulters is:   23.96**"
      ]
    },
    {
      "cell_type": "code",
      "metadata": {
        "id": "qehKv1EzMwsC",
        "colab_type": "code",
        "colab": {}
      },
      "source": [
        "plt.figure(figsize=(12,5))\n",
        "plt.subplot(121)\n",
        "sns.countplot(cmb_Tar_0.NAME_CONTRACT_TYPE_y.dropna())\n",
        "plt.title(\"Distribution of INCOME_TOTAL OF Non-Defaulters\",color=\"g\")\n",
        "plt.xticks(rotation = 45)\n",
        "\n",
        "plt.subplot(122)\n",
        "sns.countplot(cmb_Tar_1.NAME_CONTRACT_TYPE_y.dropna())\n",
        "plt.title(\"Distribution of INCOME_TOTAL of Defaulters\",color=\"g\")\n",
        "plt.xticks(rotation = 45)\n",
        "plt.show()"
      ],
      "execution_count": 0,
      "outputs": []
    },
    {
      "cell_type": "markdown",
      "metadata": {
        "id": "NFJQtz0qMwsG",
        "colab_type": "text"
      },
      "source": [
        "### Observation:\n",
        "\n",
        "**Its seems that for defaulters more of the previous applications where for cash loans**\n",
        "\n",
        "**in case of non-defaulters the consumer loans and cash loan proportion is similar**\n"
      ]
    },
    {
      "cell_type": "markdown",
      "metadata": {
        "id": "5Iwsu0HEMwsH",
        "colab_type": "text"
      },
      "source": [
        "<a id = 'paua'></a>\n",
        "###  Univariate Analysis"
      ]
    },
    {
      "cell_type": "code",
      "metadata": {
        "id": "BlK8uFrSMwsH",
        "colab_type": "code",
        "colab": {}
      },
      "source": [
        "cmb_Tar_0['DAYS_TERMINATION'].abs()\n",
        "\n",
        "\n",
        "plt.figure(figsize=(12,5))\n",
        "plt.subplot(121)\n",
        "sns.distplot(cmb_Tar_0['DAYS_TERMINATION'].dropna())\n",
        "plt.title(\"Distribution of INCOME_TOTAL OF Non-Defaulters\",color=\"g\")\n",
        "plt.xticks(rotation = 45)\n",
        "\n",
        "plt.subplot(122)\n",
        "sns.distplot(cmb_Tar_1['DAYS_TERMINATION'].dropna())\n",
        "plt.title(\"Distribution of INCOME_TOTAL of Defaulters\",color=\"g\")\n",
        "plt.xticks(rotation = 45)\n",
        "plt.show()\n",
        "\n"
      ],
      "execution_count": 0,
      "outputs": []
    },
    {
      "cell_type": "code",
      "metadata": {
        "id": "qou1TrlKMwsN",
        "colab_type": "code",
        "colab": {}
      },
      "source": [
        "cmb_Tar_0['DAYS_TERMINATION'].dropna().describe()"
      ],
      "execution_count": 0,
      "outputs": []
    },
    {
      "cell_type": "code",
      "metadata": {
        "id": "4ofEyqaCMwsQ",
        "colab_type": "code",
        "colab": {}
      },
      "source": [
        "cmb_Tar_1['DAYS_TERMINATION'].dropna().describe()"
      ],
      "execution_count": 0,
      "outputs": []
    },
    {
      "cell_type": "markdown",
      "metadata": {
        "id": "PxkhZ7p0MwsV",
        "colab_type": "text"
      },
      "source": [
        "### Observation:\n",
        "\n",
        "**Its seems that for defaulters meantime previous applications closed was smaller than that of non-defaulters**\n",
        "\n"
      ]
    },
    {
      "cell_type": "markdown",
      "metadata": {
        "id": "Y4-LeK79MwsV",
        "colab_type": "text"
      },
      "source": [
        "### the previous loan period can be calculated with DAYS_FIRST_DRAWING - DAYS_TERMINATION\n",
        "\n",
        "we can do analysis of this period"
      ]
    },
    {
      "cell_type": "code",
      "metadata": {
        "id": "PP4WDhSFMwsW",
        "colab_type": "code",
        "colab": {}
      },
      "source": [
        "\n",
        "\n",
        "plt.figure(figsize=(12,5))\n",
        "plt.subplot(121)\n",
        "sns.distplot((cmb_Tar_0['DAYS_FIRST_DRAWING']-  cmb_Tar_0['DAYS_TERMINATION']).dropna())\n",
        "plt.title(\"Distribution of Loan period OF Non-Defaulters\",color=\"g\")\n",
        "plt.xticks(rotation = 45)\n",
        "\n",
        "plt.subplot(122)\n",
        "sns.distplot((cmb_Tar_1['DAYS_FIRST_DRAWING']-  cmb_Tar_1['DAYS_TERMINATION']).dropna())\n",
        "plt.title(\"Distribution of Loan period of Defaulters\",color=\"g\")\n",
        "plt.xticks(rotation = 45)\n",
        "plt.show()\n"
      ],
      "execution_count": 0,
      "outputs": []
    },
    {
      "cell_type": "code",
      "metadata": {
        "id": "H9L8xAmwMwsd",
        "colab_type": "code",
        "colab": {}
      },
      "source": [
        "(cmb_Tar_0['DAYS_FIRST_DRAWING']-  cmb_Tar_0['DAYS_TERMINATION']).dropna().describe()"
      ],
      "execution_count": 0,
      "outputs": []
    },
    {
      "cell_type": "code",
      "metadata": {
        "id": "TW8hSSDyMwsh",
        "colab_type": "code",
        "colab": {}
      },
      "source": [
        "(cmb_Tar_0['DAYS_FIRST_DRAWING']-  cmb_Tar_0['DAYS_TERMINATION']).dropna().describe()"
      ],
      "execution_count": 0,
      "outputs": []
    },
    {
      "cell_type": "markdown",
      "metadata": {
        "id": "J7q670fOMwsj",
        "colab_type": "text"
      },
      "source": [
        "### Observation:\n",
        "\n",
        "**Its seems that for defaulters have perious loan duration smaller than that of non-defaulters**\n"
      ]
    },
    {
      "cell_type": "markdown",
      "metadata": {
        "id": "LJL-g4HdMwsk",
        "colab_type": "text"
      },
      "source": [
        "<a id = 'paba'></a>\n",
        "###  Bivariate Analysis"
      ]
    },
    {
      "cell_type": "code",
      "metadata": {
        "id": "80QuGuZAMwsk",
        "colab_type": "code",
        "colab": {}
      },
      "source": [
        "sns.scatterplot( x = 'AMT_APPLICATION',y = 'AMT_CREDIT_y',data = cmb_Tar_0,\n",
        "               label = 'Target = 0')\n",
        "plt.xticks(rotation = 45)\n",
        "sns.scatterplot( x = 'AMT_APPLICATION',y = 'AMT_CREDIT_y',data = cmb_Tar_1,\n",
        "               label = 'Target = 1')\n",
        "plt.xticks(rotation = 45)\n",
        "plt.show()"
      ],
      "execution_count": 0,
      "outputs": []
    },
    {
      "cell_type": "code",
      "metadata": {
        "id": "evvwhTVTMwsl",
        "colab_type": "code",
        "colab": {}
      },
      "source": [
        "cmb_Tar_0[['AMT_CREDIT_y','AMT_APPLICATION']].corr()"
      ],
      "execution_count": 0,
      "outputs": []
    },
    {
      "cell_type": "code",
      "metadata": {
        "id": "XAcr9W5jMwsn",
        "colab_type": "code",
        "colab": {}
      },
      "source": [
        "cmb_Tar_1[['AMT_CREDIT_y','AMT_APPLICATION']].corr()"
      ],
      "execution_count": 0,
      "outputs": []
    },
    {
      "cell_type": "code",
      "metadata": {
        "id": "Gk2E1i9rMwso",
        "colab_type": "code",
        "colab": {}
      },
      "source": [
        "sns.scatterplot( x = 'AMT_APPLICATION',y = 'AMT_CREDIT_x',data = cmb_Tar_0,\n",
        "               label = 'Target = 0')\n",
        "plt.xticks(rotation = 45)\n",
        "sns.scatterplot( x = 'AMT_APPLICATION',y = 'AMT_CREDIT_x',data = cmb_Tar_1,\n",
        "               label = 'Target = 1')\n",
        "plt.xticks(rotation = 45)\n",
        "plt.show()"
      ],
      "execution_count": 0,
      "outputs": []
    },
    {
      "cell_type": "code",
      "metadata": {
        "id": "bWlziUOSMwsq",
        "colab_type": "code",
        "colab": {}
      },
      "source": [
        "cmb_Tar_0[['AMT_CREDIT_x','AMT_APPLICATION']].corr()"
      ],
      "execution_count": 0,
      "outputs": []
    },
    {
      "cell_type": "code",
      "metadata": {
        "id": "suqOnaYGMwss",
        "colab_type": "code",
        "colab": {}
      },
      "source": [
        "cmb_Tar_1[['AMT_CREDIT_x','AMT_APPLICATION']].corr()"
      ],
      "execution_count": 0,
      "outputs": []
    },
    {
      "cell_type": "markdown",
      "metadata": {
        "id": "goXp9EAkMwsv",
        "colab_type": "text"
      },
      "source": [
        "### Observation:\n",
        "\n",
        "**The previous application aount and credit amounts are show +ve correlation around 0.97**\n",
        "\n",
        "\n",
        "**Also it seems that previous application amount and current application amount have weak +ve correlation of 0.092 for non-defaulters and 0.095 for defaulters**\n"
      ]
    },
    {
      "cell_type": "markdown",
      "metadata": {
        "id": "pt9L47t1Mwsw",
        "colab_type": "text"
      },
      "source": [
        "<a id = 'summary'></a>\n",
        "\n",
        "## Summary:\n",
        "\n",
        "**The dataset is highly imbalnced with 8.35% data for Loan Defaulters and remaining 91.65% data for non-defaulters.**\n",
        "\n",
        "In the application dataset:\n",
        "  - The top 10 positive correlation between numerical variables, is consistent across both Defaulters and non-defaulters\n",
        "  - for Negative correlation 2 combination of numerica variables have higher correlation for Defaulters complared to non-defaulters\n",
        "\n",
        "    - DAYS_EMPLOYED & FLAG_DOCUMENT_3 -0.282129\n",
        "    - HOUR_APPR_PROCESS_START & REGION_RATING_CLIENT_W_CITY -0.275582\n",
        "    \n",
        "### Observations from Segmenetd Univariate anlysis\n",
        "\n",
        "\n",
        "  - **Loan defaults are proportion is less for Married people compare to non-defaulters**\n",
        "  - **But It seems for Single/Civil Married customers, the loan defaulter proportion is little higher.**\n",
        "  - **Its seems customers living with Parents have little more proportion  of defaulting compared to non-defaulters**\n",
        "  - **Similarly Municipal  and Rented apartment accomodation shows slightly higher proportion towards defaulting**\n",
        "  - **Its seems customers who are currently working have higher proportion of defaulters**\n",
        "  - **Pensioners seems to be pay back loan , so their proportion is less on defaulters**\n",
        "  - **Similarly State servents are comparitivaly show less tendency towards defaulting**\n",
        "  - **Its seems customers with profession as Laborer have higher proportion of defaulters**\n",
        "  - **Another observation is as IT/HR staff have lower proportion of defaulting**\n",
        "  - **Customers with Secondary education have high proportion of defaulting if compared to non-defaulters**\n",
        "  \n",
        "  \n",
        "### Observations from Univariate analysis\n",
        "\n",
        "\n",
        "  - **The income of the customers seems to have similar distribution for both defaulters and non-defaulters**\n",
        "  - **The Average income seems to be around  140K for both segments**\n",
        "  - **For Annuity data The defaulters seems to have more outliers compared to non-defaulters**\n",
        "  - **The average annuity is similar for both defaulters and non defaulters around 30K**\n",
        "  - **for Loan amt The defaulters seems to have more outliers compared to non-defaulters**\n",
        "  - **The higher fence value for defaulters is around 1.2 M compared to non-defaulters which is around 1.5M**\n",
        "  - **Large no of defaulters have credit of between 200K to 600K**\n",
        "  - **It seems majority of defaulter are from lower populated area., we can see that proportions for 0.05 and 0.07 are lower than that of non-defaulters**\n",
        "  - **The median age for defaulters are around 14000 days older which would be around 40 Years**\n",
        "  - **It looks like as the age increases proportion of defaulters decreases**\n",
        "  - **The younger customers seems to have higher proportion of defaulters**\n",
        "  \n",
        "  \n",
        "### Observations from Bivariate analysis\n",
        "\n",
        "**DAYS_BIRTH and DAYS_EMPLOYED**\n",
        "\n",
        "  - **The correlation between employment  and loan amount for non defaulters is  -0.0663 , but if we considered data for only non-retired applicants correlation is: 0.0818**\n",
        "  - **The correlation between employment  and loan amount for loan-defaulters is  0.0018 , but if we considered data for only non-retired applicants correlation is: 0.1124**\n",
        "  - **for Payment defaulters (TARGET = 1) As age increases and days employed increases, the loan default shows reductions. So It might be case that younger people will short employment history tend to default more.**\n",
        "  - **Also for loan defaulters, their is correlation  between employment  period and loan amount is around 0.1124 which is significantly more than non-defaulters. (This observation is only for non-retired applicants)**\n",
        "\n",
        "**AMT_CREDIT and DAYS_EMPLOYED**\n",
        "\n",
        "  - **for Payment defaulters (TARGET = 1) It seems that the credit amount of loan is low at higher experience level. Also the loan default is concentrated below 1.5M Loan amount credit and below 10000 days (around 30 Years job experience)**\n",
        "\n",
        "  \n",
        "  \n",
        " **AMT_CREDIT and AMT_GOODS_PRICE**\n",
        " \n",
        "  - **The correlation between property price and loan amount for non defaulters is  0.9816 but for defaulters it is: 0.9776** \n",
        "  - **credit amount and goods price are highly correlated variables for both defaulters and non - defaulters. So as the home price increases the loan amount also increases which is logical**\n",
        "  \n",
        "\n",
        "**AMT_CREDIT and AMT_ANNUITY**\n",
        "\n",
        "  - **The correlation between AMT_ANNUITY (EMI) and loan amount for non defaulters is  0.7609 but for defaulters it is: 0.7401**\n",
        "  - **credit amount and AMT_ANNUITY (EMI) are highly correlated variables for both defaulters and non - defaulters .  So as the home price increases the EMI amount also increases which is logical**\n",
        "  \n",
        "  \n",
        "  **AMT_ANNUITY and AMT_GOODS_PRICE**\n",
        "  \n",
        "  - **The correlation between DAYS_EMPLOYED (employment) and loan amount for non defaulters is  0.7604 but for defaulters it is: 0.7374**\n",
        "  \n",
        "  \n",
        "### Observations from Previous Application data\n",
        "\n",
        "  - **The previously refused % of applications for non-defaulters is: 16.75**\n",
        "  - **The previously refused % of applications for defaulters is:   23.96**\n",
        "  - **Its seems that for TARGET = 1 clients have larger proportion of previously Refused applications**\n",
        "  - **Its seems that for defaulters more of the previous applications were for cash loans**\n",
        "  - **in case of non-defaulters the consumer loans and cash loan proportion is similar**\n",
        "  - **Its seems that for defaulters mean time of previous applications closed was smaller than that of non-defaulters**\n",
        "  - **for defaulters have previous  loan duration smaller than that of non-defaulters**\n",
        "  \n",
        "**Bivariate analysis of AMT_CREDIT_y and\tAMT_APPLICATION**\n",
        "\n",
        "   - **The previous application amount  and credit amounts are show +ve correlation around 0.97 Also it seems that previous application amount and current application amount have weak +ve correlation of 0.092 for non-defaulters and 0.095 for defaulters**\n",
        "  \n",
        "  \n",
        "  \n",
        "  \n",
        "  \n",
        "\n"
      ]
    },
    {
      "cell_type": "code",
      "metadata": {
        "id": "1ujMmBlIMwsx",
        "colab_type": "code",
        "colab": {}
      },
      "source": [
        ""
      ],
      "execution_count": 0,
      "outputs": []
    }
  ]
}